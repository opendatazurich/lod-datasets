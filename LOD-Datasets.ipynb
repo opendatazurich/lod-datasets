{
 "cells": [
  {
   "cell_type": "markdown",
   "metadata": {},
   "source": [
    "# LOD-Datasets\n",
    "\n",
    "## Ziel: Datasets mit Metadaten von LOSD extrahieren, um sie auf CKAN zu importieren.\n",
    "\n",
    "SPARQL-Queries als Basis:\n",
    "- Datasets with Observations: http://yasgui.org/short/0TZ3Oo1w0\n",
    "- Observations with multiple MeasureProperty's: http://yasgui.org/short/wzt1WNUEw\n",
    "- Dataset metadata (meta.xml): http://yasgui.org/short/G1pSGUyN2\n",
    "- Beispiel SPARQL Query (für als Ressource): http://yasgui.org/short/DM-Xwuqi3\n",
    "- Attribut-Liste von Dataset: http://yasgui.org/short/S_dIzmWUq"
   ]
  },
  {
   "cell_type": "code",
   "execution_count": 4,
   "metadata": {},
   "outputs": [],
   "source": [
    "from SPARQLWrapper import SPARQLWrapper, JSON, XML\n",
    "from pprint import pprint\n",
    "import pandas as pd\n",
    "import urllib\n",
    "from slugify import slugify\n",
    "\n",
    "def querySparql(query):\n",
    "    # The ld.stadt-zuerich.ch endpoints doesn't seem to work, use LINDA instead\n",
    "    #sparql = SPARQLWrapper(\"https://ld.stadt-zuerich.ch/query\")\n",
    "    sparql = SPARQLWrapper(\"https://lindas-data.ch:8443/lindas/query\")\n",
    "    sparql.setHTTPAuth(\"BASIC\")\n",
    "    sparql.setCredentials(\"public\", \"public\")\n",
    "    sparql.setQuery(query)\n",
    "    sparql.setReturnFormat(JSON)\n",
    "    results = sparql.queryAndConvert()\n",
    "    return results['results']['bindings']"
   ]
  },
  {
   "cell_type": "markdown",
   "metadata": {},
   "source": [
    "Die folgende **SPARQL-Query** holt sich **alle Datasets mit mind. einer Observation** haben (im Subgraph der Stadt Zürich):"
   ]
  },
  {
   "cell_type": "code",
   "execution_count": 5,
   "metadata": {},
   "outputs": [
    {
     "name": "stdout",
     "output_type": "stream",
     "text": [
      "\n",
      "PREFIX qb: <http://purl.org/linked-data/cube#>\n",
      "PREFIX rdfs: <http://www.w3.org/2000/01/rdf-schema#>\n",
      "\n",
      "SELECT ?dataset ?label WHERE { GRAPH <https://linked.opendata.swiss/graph/zh/statistics> {\n",
      "\n",
      "   ?dataset a qb:DataSet ; \n",
      "      rdfs:label ?label .     \n",
      "    \n",
      "   # ?obs a qb:Observation ;\n",
      "   ?obs <http://purl.org/linked-data/cube#dataSet> ?dataset .\n",
      "   \n",
      "   # FILTER (?dataset = <https://ld.stadt-zuerich.ch/statistics/dataset/AVA-RAUM-ZEIT-GGH-HEL-SEX>)  \n",
      "}}\n",
      "GROUP BY ?dataset ?label\n",
      "LIMIT 1000\n",
      "\n"
     ]
    }
   ],
   "source": [
    "allDatasets = \"\"\"\n",
    "PREFIX qb: <http://purl.org/linked-data/cube#>\n",
    "PREFIX rdfs: <http://www.w3.org/2000/01/rdf-schema#>\n",
    "\n",
    "SELECT ?dataset ?label WHERE { GRAPH <https://linked.opendata.swiss/graph/zh/statistics> {\n",
    "\n",
    "   ?dataset a qb:DataSet ; \n",
    "      rdfs:label ?label .     \n",
    "    \n",
    "   # ?obs a qb:Observation ;\n",
    "   ?obs <http://purl.org/linked-data/cube#dataSet> ?dataset .\n",
    "   \n",
    "   # FILTER (?dataset = <https://ld.stadt-zuerich.ch/statistics/dataset/AVA-RAUM-ZEIT-GGH-HEL-SEX>)  \n",
    "}}\n",
    "GROUP BY ?dataset ?label\n",
    "LIMIT 1000\n",
    "\"\"\"\n",
    "print(allDatasets)"
   ]
  },
  {
   "cell_type": "code",
   "execution_count": 6,
   "metadata": {},
   "outputs": [],
   "source": [
    "datasetResult = querySparql(allDatasets)"
   ]
  },
  {
   "cell_type": "markdown",
   "metadata": {},
   "source": [
    "Dies ist die **Liste aller Datasets**:"
   ]
  },
  {
   "cell_type": "code",
   "execution_count": 7,
   "metadata": {},
   "outputs": [
    {
     "name": "stdout",
     "output_type": "stream",
     "text": [
      "['Arbeitsst\\xc3\\xa4tten nach Betriebsart, Raum, Zeit',\n",
      " 'Besch\\xc3\\xa4ftigte nach Betriebsart, Raum, Geschlecht, Zeit',\n",
      " 'Besch\\xc3\\xa4ftigte nach Betriebsart, Raum, Zeit',\n",
      " 'Zuschauer/innen, Besucher/innen nach Betriebsart, Heimatland, Raum, Zeit',\n",
      " 'Zuschauer/innen, Besucher/innen nach Betriebsart, Raum, Geschlecht, Zeit',\n",
      " 'Zuschauer/innen, Besucher/innen nach Betriebsart, Raum, Zeit',\n",
      " 'Sch\\xc3\\xbcler/innen und Student/innen nach Betriebsart, Raum, Schulstufen und F\\xc3\\xa4cher, Zeit',\n",
      " 'Sch\\xc3\\xbcler/innen und Student/innen nach Betriebsart, Raum, Zeit',\n",
      " 'Arbeitsst\\xc3\\xa4tten nach Bewilligung, Betriebsart, Raum, Zeit',\n",
      " 'Wirtschaftliche Wohnbev\\xc3\\xb6lkerung nach Raum, Zeit',\n",
      " 'Wirtschaftliche Wohnbev\\xc3\\xb6lkerung nach Raum, Geschlecht, Zeit',\n",
      " 'Wirtschaftliche Wohnbev\\xc3\\xb6lkerung nach Heimatland, Raum, Geschlecht, Zeit',\n",
      " 'Wirtschaftliche Wohnbev\\xc3\\xb6lkerung nach Heimatland, Raum, Zeit',\n",
      " 'Anteil nach Grundgesamtheit, Heimatland, Raum, Zeit',\n",
      " 'Wirtschaftliche Wohnbev\\xc3\\xb6lkerung nach Konfession, Raum, Zeit',\n",
      " 'Wirtschaftliche Wohnbev\\xc3\\xb6lkerung nach Alter, Raum, Zeit',\n",
      " 'Veranstaltungen, Auff\\xc3\\xbchrungen nach Betriebsart, Produktionsart Kulturveranstaltung, Raum, Zeit',\n",
      " 'Veranstaltungen, Auff\\xc3\\xbchrungen nach Betriebsart, Raum, Zeit',\n",
      " 'Veranstaltungen, Auff\\xc3\\xbchrungen nach Betriebsart, Raum, Veranstaltungsart, Zeit',\n",
      " 'Platzbelegung nach Betriebsart, Raum, Veranstaltungsart, Zeit',\n",
      " 'Platzbelegung nach Betriebsart, Raum, Zeit',\n",
      " 'Wert nach Betriebsart, Erfolgsrechnung, Raum, Zeit',\n",
      " 'Tierarten nach Betriebsart, Raum, Tiergattung, Zeit',\n",
      " 'Tierindividuen nach Betriebsart, Raum, Tiergattung, Zeit',\n",
      " 'Tierarten nach Betriebsart, Raum, Zeit',\n",
      " 'Tierindividuen nach Betriebsart, Raum, Zeit',\n",
      " 'Altersdurchschnitt nach Grundgesamtheit, Heimatland, Raum, Geschlecht, Zeit',\n",
      " 'Altersdurchschnitt nach Grundgesamtheit, Heimatland, Raum, Zeit',\n",
      " 'Altersdurchschnitt nach Grundgesamtheit, Raum, Geschlecht, Zeit',\n",
      " 'Aussteller nach Betriebsart, Raum, Zeit',\n",
      " 'Netto-Ausstellungsfl\\xc3\\xa4che nach Betriebsart, Raum, Zeit',\n",
      " 'Ausstellungsdauer nach Betriebsart, Raum, Zeit',\n",
      " 'Pl\\xc3\\xa4tze, Sitzpl\\xc3\\xa4tze, Stehpl\\xc3\\xa4tze nach Betriebsart, Raum, Zeit',\n",
      " 'Zuschauer/innen, Besucher/innen pro Veranstaltung/Auff\\xc3\\xbchrung nach Betriebsart, Raum, Zeit',\n",
      " 'Medienbestand nach Betriebsart, Medienart, Raum, Zeit',\n",
      " 'Pflanzenindividuen nach Betriebsart, Raum, Zeit',\n",
      " 'Herbar nach Betriebsart, Raum, Zeit',\n",
      " 'Medienbestand nach Betriebsart, Raum, Zeit',\n",
      " 'Ausleihen nach Betriebsart, Medienart, Raum, Zeit',\n",
      " 'Publikationen nach Betriebsart, Raum, Sachgruppe, Zeit',\n",
      " 'Auflage nach Betriebsart, Raum, Zeit',\n",
      " 'Ausleihen nach Betriebsart, Raum, Zeit',\n",
      " 'Taxa nach Betriebsart, Raum, Zeit',\n",
      " 'Zuschauer/innen, Besucher/innen pro Tag nach Betriebsart, Raum, Zeit',\n",
      " 'Altersdurchschnitt nach Raum, Zeit',\n",
      " 'Wirtschaftliche Wohnbev\\xc3\\xb6lkerung nach Alter, Heimatland, Raum, Zeit',\n",
      " 'Wirtschaftliche Wohnbev\\xc3\\xb6lkerung nach Heimatland, Konfession, Raum, Geschlecht, Zeit',\n",
      " 'Wirtschaftliche Wohnbev\\xc3\\xb6lkerung nach Heimatland, Konfession, Raum, Zeit',\n",
      " 'Wirtschaftliche Wohnbev\\xc3\\xb6lkerung nach Aufenthaltsart, Heimatland, Raum, Zeit',\n",
      " 'Zuschauer/innen, Besucher/innen nach Betriebsart, Raum, Veranstaltungsart, Zeit',\n",
      " 'Zuschauer/innen, Besucher/innen nach Betriebsart, Produktionsart Kulturveranstaltung, Raum, Zeit',\n",
      " 'Wirtschaftliche Wohnbev\\xc3\\xb6lkerung nach Alter, Heimatland, Raum, Geschlecht, Zeit',\n",
      " 'Wirtschaftliche Wohnbev\\xc3\\xb6lkerung nach Alter, Raum, Geschlecht, Zeit',\n",
      " 'Zuschauer/innen, Besucher/innen nach Betriebsart, Raum, Zeit, Zuschauer- bzw. Besucherart',\n",
      " 'Zuschauer/innen, Besucher/innen nach Betriebsart, Raum, Veranstaltungsart, Zeit, Zuschauer- bzw. Besucherart',\n",
      " 'Geborene (wirtschaftlich) nach Heimatland, Raum, Zeit',\n",
      " 'Sterbef\\xc3\\xa4lle (wirtschaftlich) nach Heimatland, Raum, Zeit',\n",
      " 'Saldo der nat\\xc3\\xbcrlichen Bev\\xc3\\xb6lkerungsbewegungen (wirtschaftlich) nach Heimatland, Raum, Zeit',\n",
      " 'Sterbef\\xc3\\xa4lle (wirtschaftlich) nach Raum, Zeit',\n",
      " 'Zuz\\xc3\\xbcge von Personen (wirtschaftlich) nach Heimatland, Raum, Zeit',\n",
      " 'Zuz\\xc3\\xbcge von Personen (wirtschaftlich) nach Raum, Zeit',\n",
      " 'Saldo der Wanderungsbewegungen (Personen, wirtschaftlich) nach Heimatland, Raum, Zeit',\n",
      " 'Saldo aller Bev\\xc3\\xb6lkerungsbewegungen (wirtschaftlich) nach Raum, Zeit',\n",
      " 'Saldo der nat\\xc3\\xbcrlichen Bev\\xc3\\xb6lkerungsbewegungen (wirtschaftlich) nach Raum, Zeit',\n",
      " 'Saldo von Umz\\xc3\\xbcgen (Personen, wirtschaftlich) nach Raum, Zeit',\n",
      " 'Saldo der Wanderungsbewegungen (Personen, wirtschaftlich) nach Raum, Zeit',\n",
      " 'Geborene (wirtschaftlich) nach Raum, Zeit',\n",
      " 'St\\xc3\\xa4ndige Wohnbev\\xc3\\xb6lkerung nach Heimatland, Raum, Zeit, Zivilstand',\n",
      " 'St\\xc3\\xa4ndige Wohnbev\\xc3\\xb6lkerung nach Raum, Geschlecht, Zeit, Zivilstand',\n",
      " 'St\\xc3\\xa4ndige Wohnbev\\xc3\\xb6lkerung nach Heimatland, Raum, Geschlecht, Zeit, Zivilstand',\n",
      " 'St\\xc3\\xa4ndige Wohnbev\\xc3\\xb6lkerung nach Heimatland, Raum, Geschlecht, Zeit',\n",
      " 'St\\xc3\\xa4ndige Wohnbev\\xc3\\xb6lkerung nach Heimatland, Raum, Zeit',\n",
      " 'St\\xc3\\xa4ndige Wohnbev\\xc3\\xb6lkerung nach Raum, Zeit, Zivilstand',\n",
      " 'Grundst\\xc3\\xbcckfl\\xc3\\xa4che nach Bodenbedeckungsart, Raum, Zeit',\n",
      " 'Grundst\\xc3\\xbcckfl\\xc3\\xa4che nach Raum, Zeit',\n",
      " 'Grundst\\xc3\\xbcckfl\\xc3\\xa4che nach Raum, Zeit, Zonenart',\n",
      " 'Arbeitslose nach Raum, Zeit',\n",
      " 'Grundst\\xc3\\xbcckfl\\xc3\\xa4che nach Bodenbedeckungsart, Raum, Zeit, Zonenart',\n",
      " 'Arbeitslose nach Heimatland, Raum, Zeit',\n",
      " 'St\\xc3\\xa4ndige Wohnbev\\xc3\\xb6lkerung nach Raum, Geschlecht, Zeit',\n",
      " 'St\\xc3\\xa4ndige Wohnbev\\xc3\\xb6lkerung nach Raum, Zeit',\n",
      " 'Wegzug von Personen (wirtschaftlich) nach Heimatland, Raum, Zeit',\n",
      " 'Wegzug von Personen (wirtschaftlich) nach Raum, Zeit',\n",
      " 'Grundst\\xc3\\xbcckfl\\xc3\\xa4che nach Eigent\\xc3\\xbcmerart, Raum, Zeit',\n",
      " 'Arbeitslose nach Alter, Heimatland, Raum, Zeit',\n",
      " 'Grundst\\xc3\\xbcck nach Hand\\xc3\\xa4nderungsart, Herkunft Erwerbende, Herkunft Ver\\xc3\\xa4ussernde, Raum, Zeit',\n",
      " 'Grundst\\xc3\\xbcck nach Hand\\xc3\\xa4nderungsart, Herkunft Ver\\xc3\\xa4ussernde, Raum, Zeit',\n",
      " 'Geborene (wirtschaftlich) nach Namenfolge, Namen, Raum, Geschlecht, Zeit',\n",
      " 'Grundst\\xc3\\xbcck nach Hand\\xc3\\xa4nderungsart, Herkunft Erwerbende, Raum, Zeit',\n",
      " 'Grundst\\xc3\\xbcck nach Hand\\xc3\\xa4nderungsart, Raum, Zeit']\n",
      "90 Datasets\n"
     ]
    }
   ],
   "source": [
    "datasets = [{'uri': d['dataset']['value'], 'label': d['label']['value']} for d in datasetResult]\n",
    "pprint([d['label'].encode('utf-8') for d in datasets])\n",
    "print(\"%s Datasets\" % len(datasets))"
   ]
  },
  {
   "cell_type": "code",
   "execution_count": 11,
   "metadata": {},
   "outputs": [],
   "source": [
    "def generateMetaQuery(dataset):\n",
    "    metaQuery = u'''\n",
    "    PREFIX qb: <http://purl.org/linked-data/cube#>\n",
    "    PREFIX skos: <http://www.w3.org/2004/02/skos/core#>\n",
    "    PREFIX rdfs: <http://www.w3.org/2000/01/rdf-schema#>\n",
    "\n",
    "    SELECT ?dataset ?title ?categoryLabel ?quelleLabel ?zeit ?updateDate ?glossarLabel ?btaLabel ?raumLabel\n",
    "    WHERE { GRAPH <https://linked.opendata.swiss/graph/zh/statistics> {\n",
    "       ?dataset a qb:DataSet ; \n",
    "            rdfs:label ?title .     \n",
    "\n",
    "        # group\n",
    "       OPTIONAL {\n",
    "           ?category a <https://ld.stadt-zuerich.ch/schema/Category> ;\n",
    "           rdfs:label ?categoryLabel ;\n",
    "           skos:narrower* ?dataset .\n",
    "        }\n",
    "\n",
    "         # quelle, zeit, aktualisierungsdatum\n",
    "        ?obs <http://purl.org/linked-data/cube#dataSet> ?dataset .\n",
    "        OPTIONAL {\n",
    "            ?obs <https://ld.stadt-zuerich.ch/statistics/attribute/QUELLE> ?quelle .\n",
    "            ?quelle rdfs:label ?quelleLabel .\n",
    "        }\n",
    "        OPTIONAL {\n",
    "            ?obs <https://ld.stadt-zuerich.ch/statistics/property/RAUM> ?raum .\n",
    "            ?raum rdfs:label ?raumLabel .\n",
    "        }\n",
    "        OPTIONAL { ?obs <https://ld.stadt-zuerich.ch/statistics/property/ZEIT> ?zeit } .\n",
    "        OPTIONAL { ?obs <https://ld.stadt-zuerich.ch/statistics/attribute/DATENSTAND> ?updateDate } .\n",
    "        \n",
    "        # evtl. GLOSSAR und BTA (und weitere) für Tags verwenden\n",
    "        OPTIONAL {\n",
    "            ?obs <https://ld.stadt-zuerich.ch/statistics/attribute/GLOSSAR> ?glossar .\n",
    "            ?glossar rdfs:label ?glossarLabel .\n",
    "        }\n",
    "         OPTIONAL {\n",
    "             ?obs <https://ld.stadt-zuerich.ch/statistics/property/BTA> ?bta .        \n",
    "             ?bta rdfs:label ?btaLabel .\n",
    "        }\n",
    "\n",
    "       FILTER (?dataset = <DATASET_URI>)\n",
    "    }}\n",
    "    GROUP BY ?dataset ?title ?categoryLabel ?quelleLabel ?zeit ?updateDate ?glossarLabel ?btaLabel ?raumLabel\n",
    "    LIMIT 1000'''\n",
    "    metaQuery = metaQuery.replace('DATASET_URI', dataset['uri'])\n",
    "    return metaQuery\n",
    "\n",
    "def generateAttributeQuery(dataset):\n",
    "    attributeQuery = u'''\n",
    "    PREFIX rdf: <http://www.w3.org/1999/02/22-rdf-syntax-ns#>\n",
    "    PREFIX rdfs: <http://www.w3.org/2000/01/rdf-schema#>\n",
    "    PREFIX qb: <http://purl.org/linked-data/cube#>\n",
    "    SELECT ?dataset ?datasetLabel ?component ?componentLabel\n",
    "    FROM <https://linked.opendata.swiss/graph/zh/statistics>\n",
    "    WHERE {\n",
    "\n",
    "      ?spec a  qb:DataStructureDefinition ;\n",
    "        qb:component/(qb:dimension|qb:attribute|qb:measure) ?component .\n",
    "\n",
    "      ?component rdfs:label ?componentLabel .\n",
    "\n",
    "      ?dataset a qb:DataSet ;\n",
    "        rdfs:label ?datasetLabel ;\n",
    "        qb:structure ?spec .\n",
    "      FILTER (?dataset = <DATASET_URI>)  \n",
    "    } ORDER BY ?dataset'''\n",
    "    attributeQuery = attributeQuery.replace('DATASET_URI', dataset['uri'])\n",
    "    return attributeQuery\n",
    "\n",
    "def generateSPARQLforDataset(dataset):\n",
    "    attributeQuery = generateAttributeQuery(dataset)\n",
    "    #print(attributeQuery)\n",
    "    \n",
    "    result = querySparql(attributeQuery)\n",
    "    attributes = [{'uri': a['component']['value'], 'label': a['componentLabel']['value'].lower()} for a in result]\n",
    "    \n",
    "    exampleQuery = u'''\n",
    "    PREFIX rdf: <http://www.w3.org/1999/02/22-rdf-syntax-ns#>\n",
    "    PREFIX rdfs: <http://www.w3.org/2000/01/rdf-schema#>\n",
    "    PREFIX qb: <http://purl.org/linked-data/cube#>\n",
    "    SELECT * WHERE { GRAPH <https://linked.opendata.swiss/graph/zh/statistics> {\n",
    "      ?obs a qb:Observation ;\n",
    "           qb:dataSet <DATASET_URI> ;\n",
    "           ATTRIBUTES\n",
    "      }}'''\n",
    "    exampleQuery = exampleQuery.replace('DATASET_URI', dataset['uri'])\n",
    "    \n",
    "    attr = ['<%s> ?%s' % (a['uri'], slugify(a['label'], separator=\"_\")) for a in attributes]\n",
    "    attrStr = '%s .' % ' ; \\n           '.join(attr)\n",
    "    exampleQuery = exampleQuery.replace('ATTRIBUTES', attrStr)\n",
    "    #print(exampleQuery)\n",
    "    return exampleQuery\n",
    "\n",
    "def mapMetadata(dataset, metaResult):\n",
    "    meta = {\n",
    "        'uri': dataset['uri'],\n",
    "        'title': dataset['label'],\n",
    "        'description': '',\n",
    "        'category': list(set([t.get('categoryLabel', {}).get('value', '') for t in metaResult])),\n",
    "        'legal_basis': '',\n",
    "        'spatial': list(set([t.get('raumLabel', {}).get('value', '') for t in metaResult])),\n",
    "        'publisher': 'Open Data Zurich',\n",
    "        'source': list(set([t.get('quelleLabel', {}).get('value', '') for t in metaResult])),\n",
    "        'temporal': list(set([t.get('zeit', {}).get('value', '') for t in metaResult])),\n",
    "        'quality': '',\n",
    "        'published_date': list(set([t.get('zeit', {}).get('value', '') for t in metaResult])),\n",
    "        'update_date': list(set([t.get('updateDate', {}).get('value', '') for t in metaResult])),\n",
    "        'data_type': 'Datenaggregat',\n",
    "        'periodicity': '',\n",
    "        'tags': list(set([t.get('glossarLabel', {}).get('value', '') for t in metaResult])),\n",
    "        'version': '',\n",
    "        'remarks': '',\n",
    "    }\n",
    "    return meta\n",
    "\n",
    "def generateYasguiUrl(query):\n",
    "    params = {\n",
    "        'query': resourceQuery,\n",
    "        'contentTypeConstruct': 'text/turle',\n",
    "        'contentTypeSelect': 'application/sparql-results+json',\n",
    "        'endpoint': 'https://ld.stadt-zuerich.ch/query',\n",
    "        'requestMethod': 'POST',\n",
    "        'tabTitle': 'Example Query',\n",
    "        'headers': '{}',\n",
    "        'outputFormat': 'table',\n",
    "    }\n",
    "    url = 'https://ld.stadt-zuerich.ch/sparql/#%s' % urllib.urlencode(params)\n",
    "    return url\n",
    "\n",
    "def yasgui_clickable(val):\n",
    "    # target _blank to open new window\n",
    "    return '<a target=\"_blank\" href=\"%s\">Open Query in YASGUI</a>' % val"
   ]
  },
  {
   "cell_type": "markdown",
   "metadata": {},
   "source": [
    "Zeige beispielhaft **10 Datasets inkl. der Metadaten**, die CKAN braucht (_meta.xml_):"
   ]
  },
  {
   "cell_type": "code",
   "execution_count": 12,
   "metadata": {},
   "outputs": [
    {
     "data": {
      "text/html": [
       "<div>\n",
       "<style scoped>\n",
       "    .dataframe tbody tr th:only-of-type {\n",
       "        vertical-align: middle;\n",
       "    }\n",
       "\n",
       "    .dataframe tbody tr th {\n",
       "        vertical-align: top;\n",
       "    }\n",
       "\n",
       "    .dataframe thead th {\n",
       "        text-align: right;\n",
       "    }\n",
       "</style>\n",
       "<table border=\"1\" class=\"dataframe\">\n",
       "  <thead>\n",
       "    <tr style=\"text-align: right;\">\n",
       "      <th></th>\n",
       "      <th>category</th>\n",
       "      <th>data_type</th>\n",
       "      <th>description</th>\n",
       "      <th>legal_basis</th>\n",
       "      <th>periodicity</th>\n",
       "      <th>published_date</th>\n",
       "      <th>publisher</th>\n",
       "      <th>quality</th>\n",
       "      <th>remarks</th>\n",
       "      <th>source</th>\n",
       "      <th>spatial</th>\n",
       "      <th>tags</th>\n",
       "      <th>temporal</th>\n",
       "      <th>title</th>\n",
       "      <th>update_date</th>\n",
       "      <th>uri</th>\n",
       "      <th>version</th>\n",
       "    </tr>\n",
       "  </thead>\n",
       "  <tbody>\n",
       "    <tr>\n",
       "      <th>0</th>\n",
       "      <td>[]</td>\n",
       "      <td>Datenaggregat</td>\n",
       "      <td></td>\n",
       "      <td></td>\n",
       "      <td></td>\n",
       "      <td>[1944-12-31, 1981-12-31, 1994-12-31, 2006-12-3...</td>\n",
       "      <td>Open Data Zurich</td>\n",
       "      <td></td>\n",
       "      <td></td>\n",
       "      <td>[Sicherheitsdepartement, Stadtpolizei Zürich, ...</td>\n",
       "      <td>[City, Oerlikon, Unterstrass, Enge, Schwamendi...</td>\n",
       "      <td>[Verpflegungsbetriebe, Horte]</td>\n",
       "      <td>[1944-12-31, 1981-12-31, 1994-12-31, 2006-12-3...</td>\n",
       "      <td>Arbeitsstätten nach Betriebsart, Raum, Zeit</td>\n",
       "      <td>[2018-08-08]</td>\n",
       "      <td>https://ld.stadt-zuerich.ch/statistics/dataset...</td>\n",
       "      <td></td>\n",
       "    </tr>\n",
       "    <tr>\n",
       "      <th>1</th>\n",
       "      <td>[]</td>\n",
       "      <td>Datenaggregat</td>\n",
       "      <td></td>\n",
       "      <td></td>\n",
       "      <td></td>\n",
       "      <td>[2014-06-30, 1986-06-30, 1980-06-30, 1972-06-3...</td>\n",
       "      <td>Open Data Zurich</td>\n",
       "      <td></td>\n",
       "      <td></td>\n",
       "      <td>[Schul- und Sportdepartement, Schulamt]</td>\n",
       "      <td>[Stadt Zürich (ab 1934)]</td>\n",
       "      <td>[Geschlecht, Horte]</td>\n",
       "      <td>[2014-06-30, 1986-06-30, 1980-06-30, 1972-06-3...</td>\n",
       "      <td>Beschäftigte nach Betriebsart, Raum, Geschlech...</td>\n",
       "      <td>[2018-08-08]</td>\n",
       "      <td>https://ld.stadt-zuerich.ch/statistics/dataset...</td>\n",
       "      <td></td>\n",
       "    </tr>\n",
       "    <tr>\n",
       "      <th>2</th>\n",
       "      <td>[Bildung, Kultur &amp; Sport]</td>\n",
       "      <td>Datenaggregat</td>\n",
       "      <td></td>\n",
       "      <td></td>\n",
       "      <td></td>\n",
       "      <td>[2014-06-30, 1986-06-30, 1980-06-30, 1972-06-3...</td>\n",
       "      <td>Open Data Zurich</td>\n",
       "      <td></td>\n",
       "      <td></td>\n",
       "      <td>[Zentralbibliothek Zürich, Schul- und Sportdep...</td>\n",
       "      <td>[Stadt Zürich (ab 1934)]</td>\n",
       "      <td>[, Horte]</td>\n",
       "      <td>[2014-06-30, 1986-06-30, 1980-06-30, 1972-06-3...</td>\n",
       "      <td>Beschäftigte nach Betriebsart, Raum, Zeit</td>\n",
       "      <td>[2018-08-08, 2018-08-21]</td>\n",
       "      <td>https://ld.stadt-zuerich.ch/statistics/dataset...</td>\n",
       "      <td></td>\n",
       "    </tr>\n",
       "    <tr>\n",
       "      <th>3</th>\n",
       "      <td>[]</td>\n",
       "      <td>Datenaggregat</td>\n",
       "      <td></td>\n",
       "      <td></td>\n",
       "      <td></td>\n",
       "      <td>[1986-06-30, 1980-06-30, 1972-06-30, 1978-06-3...</td>\n",
       "      <td>Open Data Zurich</td>\n",
       "      <td></td>\n",
       "      <td></td>\n",
       "      <td>[Schul- und Sportdepartement, Schulamt]</td>\n",
       "      <td>[Stadt Zürich (ab 1934)]</td>\n",
       "      <td>[Horte, Heimatland]</td>\n",
       "      <td>[1986-06-30, 1980-06-30, 1972-06-30, 1978-06-3...</td>\n",
       "      <td>Zuschauer/innen, Besucher/innen nach Betriebsa...</td>\n",
       "      <td>[2018-08-08]</td>\n",
       "      <td>https://ld.stadt-zuerich.ch/statistics/dataset...</td>\n",
       "      <td></td>\n",
       "    </tr>\n",
       "    <tr>\n",
       "      <th>4</th>\n",
       "      <td>[]</td>\n",
       "      <td>Datenaggregat</td>\n",
       "      <td></td>\n",
       "      <td></td>\n",
       "      <td></td>\n",
       "      <td>[2014-06-30, 1986-06-30, 1980-06-30, 1972-06-3...</td>\n",
       "      <td>Open Data Zurich</td>\n",
       "      <td></td>\n",
       "      <td></td>\n",
       "      <td>[Schul- und Sportdepartement, Schulamt]</td>\n",
       "      <td>[Stadt Zürich (ab 1934)]</td>\n",
       "      <td>[Geschlecht, Horte]</td>\n",
       "      <td>[2014-06-30, 1986-06-30, 1980-06-30, 1972-06-3...</td>\n",
       "      <td>Zuschauer/innen, Besucher/innen nach Betriebsa...</td>\n",
       "      <td>[2018-08-08]</td>\n",
       "      <td>https://ld.stadt-zuerich.ch/statistics/dataset...</td>\n",
       "      <td></td>\n",
       "    </tr>\n",
       "    <tr>\n",
       "      <th>5</th>\n",
       "      <td>[Bildung, Kultur &amp; Sport]</td>\n",
       "      <td>Datenaggregat</td>\n",
       "      <td></td>\n",
       "      <td></td>\n",
       "      <td></td>\n",
       "      <td>[1976, 1997, 1962, 1960, 1983-06-30, 1961, 198...</td>\n",
       "      <td>Open Data Zurich</td>\n",
       "      <td></td>\n",
       "      <td></td>\n",
       "      <td>[Zoo Zürich AG, Museums- und Sammlungsverwaltu...</td>\n",
       "      <td>[Stadt Zürich (ab 1934)]</td>\n",
       "      <td>[, Oper, Horte, Theater]</td>\n",
       "      <td>[1976, 1997, 1962, 1960, 1983-06-30, 1961, 198...</td>\n",
       "      <td>Zuschauer/innen, Besucher/innen nach Betriebsa...</td>\n",
       "      <td>[2018-08-22, 2018-08-21, 2018-08-08]</td>\n",
       "      <td>https://ld.stadt-zuerich.ch/statistics/dataset...</td>\n",
       "      <td></td>\n",
       "    </tr>\n",
       "    <tr>\n",
       "      <th>6</th>\n",
       "      <td>[]</td>\n",
       "      <td>Datenaggregat</td>\n",
       "      <td></td>\n",
       "      <td></td>\n",
       "      <td></td>\n",
       "      <td>[2016, 2015, 2014, 2017, 2009, 2011, 2010, 201...</td>\n",
       "      <td>Open Data Zurich</td>\n",
       "      <td></td>\n",
       "      <td></td>\n",
       "      <td>[Schul- und Sportdepartement, Musikschule Kons...</td>\n",
       "      <td>[Schulkreis Glattal, Schulkreis Limmattal, Sch...</td>\n",
       "      <td>[Jugend- und Erwachsenenbildung, Musikinstrument]</td>\n",
       "      <td>[2016, 2015, 2014, 2017, 2009, 2011, 2010, 201...</td>\n",
       "      <td>Schüler/innen und Student/innen nach Betriebsa...</td>\n",
       "      <td>[2018-08-08]</td>\n",
       "      <td>https://ld.stadt-zuerich.ch/statistics/dataset...</td>\n",
       "      <td></td>\n",
       "    </tr>\n",
       "    <tr>\n",
       "      <th>7</th>\n",
       "      <td>[]</td>\n",
       "      <td>Datenaggregat</td>\n",
       "      <td></td>\n",
       "      <td></td>\n",
       "      <td></td>\n",
       "      <td>[2016, 2015, 2014, 2017, 2009, 2011, 2010, 201...</td>\n",
       "      <td>Open Data Zurich</td>\n",
       "      <td></td>\n",
       "      <td></td>\n",
       "      <td>[Schul- und Sportdepartement, Musikschule Kons...</td>\n",
       "      <td>[Schulkreis Glattal, Schulkreis Limmattal, Sch...</td>\n",
       "      <td>[Jugend- und Erwachsenenbildung]</td>\n",
       "      <td>[2016, 2015, 2014, 2017, 2009, 2011, 2010, 201...</td>\n",
       "      <td>Schüler/innen und Student/innen nach Betriebsa...</td>\n",
       "      <td>[2018-08-08]</td>\n",
       "      <td>https://ld.stadt-zuerich.ch/statistics/dataset...</td>\n",
       "      <td></td>\n",
       "    </tr>\n",
       "    <tr>\n",
       "      <th>8</th>\n",
       "      <td>[]</td>\n",
       "      <td>Datenaggregat</td>\n",
       "      <td></td>\n",
       "      <td></td>\n",
       "      <td></td>\n",
       "      <td>[1994-12-31, 2006-12-31, 2001-12-31, 1998-12-3...</td>\n",
       "      <td>Open Data Zurich</td>\n",
       "      <td></td>\n",
       "      <td></td>\n",
       "      <td>[Sicherheitsdepartement, Stadtpolizei Zürich, ...</td>\n",
       "      <td>[City, Friesenberg, Rathaus, Kreis 8 (ab 1915)...</td>\n",
       "      <td>[Verpflegungsbetriebe]</td>\n",
       "      <td>[1994-12-31, 2006-12-31, 2001-12-31, 1998-12-3...</td>\n",
       "      <td>Arbeitsstätten nach Bewilligung, Betriebsart, ...</td>\n",
       "      <td>[2018-08-08]</td>\n",
       "      <td>https://ld.stadt-zuerich.ch/statistics/dataset...</td>\n",
       "      <td></td>\n",
       "    </tr>\n",
       "    <tr>\n",
       "      <th>9</th>\n",
       "      <td>[Bevölkerung]</td>\n",
       "      <td>Datenaggregat</td>\n",
       "      <td></td>\n",
       "      <td></td>\n",
       "      <td></td>\n",
       "      <td>[1904-12-31, 1921-12-31, 1957-12-31, 1919-12-3...</td>\n",
       "      <td>Open Data Zurich</td>\n",
       "      <td></td>\n",
       "      <td></td>\n",
       "      <td>[Statistik Stadt Zürich, BVS, Statistik Stadt ...</td>\n",
       "      <td>[alter Kreis 7 (1915-1933), City, Schwamending...</td>\n",
       "      <td>[]</td>\n",
       "      <td>[1904-12-31, 1921-12-31, 1957-12-31, 1919-12-3...</td>\n",
       "      <td>Wirtschaftliche Wohnbevölkerung nach Raum, Zeit</td>\n",
       "      <td>[2018-08-17]</td>\n",
       "      <td>https://ld.stadt-zuerich.ch/statistics/dataset...</td>\n",
       "      <td></td>\n",
       "    </tr>\n",
       "  </tbody>\n",
       "</table>\n",
       "</div>"
      ],
      "text/plain": [
       "                    category      data_type description legal_basis  \\\n",
       "0                         []  Datenaggregat                           \n",
       "1                         []  Datenaggregat                           \n",
       "2  [Bildung, Kultur & Sport]  Datenaggregat                           \n",
       "3                         []  Datenaggregat                           \n",
       "4                         []  Datenaggregat                           \n",
       "5  [Bildung, Kultur & Sport]  Datenaggregat                           \n",
       "6                         []  Datenaggregat                           \n",
       "7                         []  Datenaggregat                           \n",
       "8                         []  Datenaggregat                           \n",
       "9              [Bevölkerung]  Datenaggregat                           \n",
       "\n",
       "  periodicity                                     published_date  \\\n",
       "0              [1944-12-31, 1981-12-31, 1994-12-31, 2006-12-3...   \n",
       "1              [2014-06-30, 1986-06-30, 1980-06-30, 1972-06-3...   \n",
       "2              [2014-06-30, 1986-06-30, 1980-06-30, 1972-06-3...   \n",
       "3              [1986-06-30, 1980-06-30, 1972-06-30, 1978-06-3...   \n",
       "4              [2014-06-30, 1986-06-30, 1980-06-30, 1972-06-3...   \n",
       "5              [1976, 1997, 1962, 1960, 1983-06-30, 1961, 198...   \n",
       "6              [2016, 2015, 2014, 2017, 2009, 2011, 2010, 201...   \n",
       "7              [2016, 2015, 2014, 2017, 2009, 2011, 2010, 201...   \n",
       "8              [1994-12-31, 2006-12-31, 2001-12-31, 1998-12-3...   \n",
       "9              [1904-12-31, 1921-12-31, 1957-12-31, 1919-12-3...   \n",
       "\n",
       "          publisher quality remarks  \\\n",
       "0  Open Data Zurich                   \n",
       "1  Open Data Zurich                   \n",
       "2  Open Data Zurich                   \n",
       "3  Open Data Zurich                   \n",
       "4  Open Data Zurich                   \n",
       "5  Open Data Zurich                   \n",
       "6  Open Data Zurich                   \n",
       "7  Open Data Zurich                   \n",
       "8  Open Data Zurich                   \n",
       "9  Open Data Zurich                   \n",
       "\n",
       "                                              source  \\\n",
       "0  [Sicherheitsdepartement, Stadtpolizei Zürich, ...   \n",
       "1            [Schul- und Sportdepartement, Schulamt]   \n",
       "2  [Zentralbibliothek Zürich, Schul- und Sportdep...   \n",
       "3            [Schul- und Sportdepartement, Schulamt]   \n",
       "4            [Schul- und Sportdepartement, Schulamt]   \n",
       "5  [Zoo Zürich AG, Museums- und Sammlungsverwaltu...   \n",
       "6  [Schul- und Sportdepartement, Musikschule Kons...   \n",
       "7  [Schul- und Sportdepartement, Musikschule Kons...   \n",
       "8  [Sicherheitsdepartement, Stadtpolizei Zürich, ...   \n",
       "9  [Statistik Stadt Zürich, BVS, Statistik Stadt ...   \n",
       "\n",
       "                                             spatial  \\\n",
       "0  [City, Oerlikon, Unterstrass, Enge, Schwamendi...   \n",
       "1                           [Stadt Zürich (ab 1934)]   \n",
       "2                           [Stadt Zürich (ab 1934)]   \n",
       "3                           [Stadt Zürich (ab 1934)]   \n",
       "4                           [Stadt Zürich (ab 1934)]   \n",
       "5                           [Stadt Zürich (ab 1934)]   \n",
       "6  [Schulkreis Glattal, Schulkreis Limmattal, Sch...   \n",
       "7  [Schulkreis Glattal, Schulkreis Limmattal, Sch...   \n",
       "8  [City, Friesenberg, Rathaus, Kreis 8 (ab 1915)...   \n",
       "9  [alter Kreis 7 (1915-1933), City, Schwamending...   \n",
       "\n",
       "                                                tags  \\\n",
       "0                      [Verpflegungsbetriebe, Horte]   \n",
       "1                                [Geschlecht, Horte]   \n",
       "2                                          [, Horte]   \n",
       "3                                [Horte, Heimatland]   \n",
       "4                                [Geschlecht, Horte]   \n",
       "5                           [, Oper, Horte, Theater]   \n",
       "6  [Jugend- und Erwachsenenbildung, Musikinstrument]   \n",
       "7                   [Jugend- und Erwachsenenbildung]   \n",
       "8                             [Verpflegungsbetriebe]   \n",
       "9                                                 []   \n",
       "\n",
       "                                            temporal  \\\n",
       "0  [1944-12-31, 1981-12-31, 1994-12-31, 2006-12-3...   \n",
       "1  [2014-06-30, 1986-06-30, 1980-06-30, 1972-06-3...   \n",
       "2  [2014-06-30, 1986-06-30, 1980-06-30, 1972-06-3...   \n",
       "3  [1986-06-30, 1980-06-30, 1972-06-30, 1978-06-3...   \n",
       "4  [2014-06-30, 1986-06-30, 1980-06-30, 1972-06-3...   \n",
       "5  [1976, 1997, 1962, 1960, 1983-06-30, 1961, 198...   \n",
       "6  [2016, 2015, 2014, 2017, 2009, 2011, 2010, 201...   \n",
       "7  [2016, 2015, 2014, 2017, 2009, 2011, 2010, 201...   \n",
       "8  [1994-12-31, 2006-12-31, 2001-12-31, 1998-12-3...   \n",
       "9  [1904-12-31, 1921-12-31, 1957-12-31, 1919-12-3...   \n",
       "\n",
       "                                               title  \\\n",
       "0        Arbeitsstätten nach Betriebsart, Raum, Zeit   \n",
       "1  Beschäftigte nach Betriebsart, Raum, Geschlech...   \n",
       "2          Beschäftigte nach Betriebsart, Raum, Zeit   \n",
       "3  Zuschauer/innen, Besucher/innen nach Betriebsa...   \n",
       "4  Zuschauer/innen, Besucher/innen nach Betriebsa...   \n",
       "5  Zuschauer/innen, Besucher/innen nach Betriebsa...   \n",
       "6  Schüler/innen und Student/innen nach Betriebsa...   \n",
       "7  Schüler/innen und Student/innen nach Betriebsa...   \n",
       "8  Arbeitsstätten nach Bewilligung, Betriebsart, ...   \n",
       "9    Wirtschaftliche Wohnbevölkerung nach Raum, Zeit   \n",
       "\n",
       "                            update_date  \\\n",
       "0                          [2018-08-08]   \n",
       "1                          [2018-08-08]   \n",
       "2              [2018-08-08, 2018-08-21]   \n",
       "3                          [2018-08-08]   \n",
       "4                          [2018-08-08]   \n",
       "5  [2018-08-22, 2018-08-21, 2018-08-08]   \n",
       "6                          [2018-08-08]   \n",
       "7                          [2018-08-08]   \n",
       "8                          [2018-08-08]   \n",
       "9                          [2018-08-17]   \n",
       "\n",
       "                                                 uri version  \n",
       "0  https://ld.stadt-zuerich.ch/statistics/dataset...          \n",
       "1  https://ld.stadt-zuerich.ch/statistics/dataset...          \n",
       "2  https://ld.stadt-zuerich.ch/statistics/dataset...          \n",
       "3  https://ld.stadt-zuerich.ch/statistics/dataset...          \n",
       "4  https://ld.stadt-zuerich.ch/statistics/dataset...          \n",
       "5  https://ld.stadt-zuerich.ch/statistics/dataset...          \n",
       "6  https://ld.stadt-zuerich.ch/statistics/dataset...          \n",
       "7  https://ld.stadt-zuerich.ch/statistics/dataset...          \n",
       "8  https://ld.stadt-zuerich.ch/statistics/dataset...          \n",
       "9  https://ld.stadt-zuerich.ch/statistics/dataset...          "
      ]
     },
     "execution_count": 12,
     "metadata": {},
     "output_type": "execute_result"
    }
   ],
   "source": [
    "metadata = []\n",
    "# only loop over first 10 datasets\n",
    "for dataset in datasets[:10]:\n",
    "    metaQuery = generateMetaQuery(dataset)\n",
    "    # print(metaQuery)\n",
    "    \n",
    "    metaResult = querySparql(metaQuery)\n",
    "    #pprint(metaResult[0])\n",
    "    \n",
    "    meta = mapMetadata(dataset, metaResult)\n",
    "    metadata.append(meta)\n",
    "    \n",
    "pd.DataFrame(data=metadata)"
   ]
  },
  {
   "cell_type": "markdown",
   "metadata": {},
   "source": [
    "Generiere **SPARQL-Queries als Ressourcen**:"
   ]
  },
  {
   "cell_type": "code",
   "execution_count": 13,
   "metadata": {},
   "outputs": [],
   "source": [
    "ressources = []\n",
    "# only loop over first 10 datasets\n",
    "for dataset in datasets[:10]:\n",
    "    resourceQuery = generateSPARQLforDataset(dataset);\n",
    "    url = generateYasguiUrl(resourceQuery)\n",
    "    \n",
    "    ressources.append({\n",
    "        'dataset': dataset['uri'],\n",
    "        'datasetLabel': dataset['label'],\n",
    "        'query': resourceQuery,\n",
    "        'yasgui': url\n",
    "    })"
   ]
  },
  {
   "cell_type": "markdown",
   "metadata": {},
   "source": [
    "**Zeige beispielhaft SPARQL-Queries für 10 Datasets** (das wären Ressourcen in CKAN, inkl. Link zu YASGUI): "
   ]
  },
  {
   "cell_type": "code",
   "execution_count": 14,
   "metadata": {},
   "outputs": [
    {
     "data": {
      "text/html": [
       "<style  type=\"text/css\" >\n",
       "</style>  \n",
       "<table id=\"T_354ae072_2a1d_11e9_9401_e4a47164e0c4\" > \n",
       "<thead>    <tr> \n",
       "        <th class=\"blank level0\" ></th> \n",
       "        <th class=\"col_heading level0 col0\" >datasetLabel</th> \n",
       "        <th class=\"col_heading level0 col1\" >yasgui</th> \n",
       "    </tr></thead> \n",
       "<tbody>    <tr> \n",
       "        <th id=\"T_354ae072_2a1d_11e9_9401_e4a47164e0c4level0_row0\" class=\"row_heading level0 row0\" >0</th> \n",
       "        <td id=\"T_354ae072_2a1d_11e9_9401_e4a47164e0c4row0_col0\" class=\"data row0 col0\" >Arbeitsstätten nach Betriebsart, Raum, Zeit</td> \n",
       "        <td id=\"T_354ae072_2a1d_11e9_9401_e4a47164e0c4row0_col1\" class=\"data row0 col1\" ><a target=\"_blank\" href=\"https://ld.stadt-zuerich.ch/sparql/#requestMethod=POST&outputFormat=table&endpoint=https%3A%2F%2Fld.stadt-zuerich.ch%2Fquery&tabTitle=Example+Query&contentTypeSelect=application%2Fsparql-results%2Bjson&headers=%7B%7D&query=%0A++++PREFIX+rdf%3A+%3Chttp%3A%2F%2Fwww.w3.org%2F1999%2F02%2F22-rdf-syntax-ns%23%3E%0A++++PREFIX+rdfs%3A+%3Chttp%3A%2F%2Fwww.w3.org%2F2000%2F01%2Frdf-schema%23%3E%0A++++PREFIX+qb%3A+%3Chttp%3A%2F%2Fpurl.org%2Flinked-data%2Fcube%23%3E%0A++++SELECT+%2A+WHERE+%7B+GRAPH+%3Chttps%3A%2F%2Flinked.opendata.swiss%2Fgraph%2Fzh%2Fstatistics%3E+%7B%0A++++++%3Fobs+a+qb%3AObservation+%3B%0A+++++++++++qb%3AdataSet+%3Chttps%3A%2F%2Fld.stadt-zuerich.ch%2Fstatistics%2Fdataset%2FAST-RAUM-ZEIT-BTA%3E+%3B%0A+++++++++++%3Chttps%3A%2F%2Fld.stadt-zuerich.ch%2Fstatistics%2Fattribute%2FERWARTETE_AKTUALISIERUNG%3E+%3Ferwartete_aktualisierung+%3B+%0A+++++++++++%3Chttps%3A%2F%2Fld.stadt-zuerich.ch%2Fstatistics%2Fattribute%2FKORREKTUR%3E+%3Fkorrektur+%3B+%0A+++++++++++%3Chttps%3A%2F%2Fld.stadt-zuerich.ch%2Fstatistics%2Fattribute%2FDATENSTAND%3E+%3Fdatenstand+%3B+%0A+++++++++++%3Chttps%3A%2F%2Fld.stadt-zuerich.ch%2Fstatistics%2Fmeasure%2FAST%3E+%3Farbeitsstatten+%3B+%0A+++++++++++%3Chttps%3A%2F%2Fld.stadt-zuerich.ch%2Fstatistics%2Fproperty%2FBTA%3E+%3Fbetriebsart+%3B+%0A+++++++++++%3Chttps%3A%2F%2Fld.stadt-zuerich.ch%2Fstatistics%2Fproperty%2FRAUM%3E+%3Fraum+%3B+%0A+++++++++++%3Chttps%3A%2F%2Fld.stadt-zuerich.ch%2Fstatistics%2Fattribute%2FQUELLE%3E+%3Fquelle+%3B+%0A+++++++++++%3Chttps%3A%2F%2Fld.stadt-zuerich.ch%2Fstatistics%2Fproperty%2FZEIT%3E+%3Fzeit+%3B+%0A+++++++++++%3Chttps%3A%2F%2Fld.stadt-zuerich.ch%2Fstatistics%2Fattribute%2FFUSSNOTE%3E+%3Ffussnote+%3B+%0A+++++++++++%3Chttps%3A%2F%2Fld.stadt-zuerich.ch%2Fstatistics%2Fattribute%2FGLOSSAR%3E+%3Fglossar+.%0A++++++%7D%7D&contentTypeConstruct=text%2Fturle\">Open Query in YASGUI</a></td> \n",
       "    </tr>    <tr> \n",
       "        <th id=\"T_354ae072_2a1d_11e9_9401_e4a47164e0c4level0_row1\" class=\"row_heading level0 row1\" >1</th> \n",
       "        <td id=\"T_354ae072_2a1d_11e9_9401_e4a47164e0c4row1_col0\" class=\"data row1 col0\" >Beschäftigte nach Betriebsart, Raum, Geschlecht, Zeit</td> \n",
       "        <td id=\"T_354ae072_2a1d_11e9_9401_e4a47164e0c4row1_col1\" class=\"data row1 col1\" ><a target=\"_blank\" href=\"https://ld.stadt-zuerich.ch/sparql/#requestMethod=POST&outputFormat=table&endpoint=https%3A%2F%2Fld.stadt-zuerich.ch%2Fquery&tabTitle=Example+Query&contentTypeSelect=application%2Fsparql-results%2Bjson&headers=%7B%7D&query=%0A++++PREFIX+rdf%3A+%3Chttp%3A%2F%2Fwww.w3.org%2F1999%2F02%2F22-rdf-syntax-ns%23%3E%0A++++PREFIX+rdfs%3A+%3Chttp%3A%2F%2Fwww.w3.org%2F2000%2F01%2Frdf-schema%23%3E%0A++++PREFIX+qb%3A+%3Chttp%3A%2F%2Fpurl.org%2Flinked-data%2Fcube%23%3E%0A++++SELECT+%2A+WHERE+%7B+GRAPH+%3Chttps%3A%2F%2Flinked.opendata.swiss%2Fgraph%2Fzh%2Fstatistics%3E+%7B%0A++++++%3Fobs+a+qb%3AObservation+%3B%0A+++++++++++qb%3AdataSet+%3Chttps%3A%2F%2Fld.stadt-zuerich.ch%2Fstatistics%2Fdataset%2FBES-RAUM-ZEIT-BTA-SEX%3E+%3B%0A+++++++++++%3Chttps%3A%2F%2Fld.stadt-zuerich.ch%2Fstatistics%2Fattribute%2FERWARTETE_AKTUALISIERUNG%3E+%3Ferwartete_aktualisierung+%3B+%0A+++++++++++%3Chttps%3A%2F%2Fld.stadt-zuerich.ch%2Fstatistics%2Fattribute%2FKORREKTUR%3E+%3Fkorrektur+%3B+%0A+++++++++++%3Chttps%3A%2F%2Fld.stadt-zuerich.ch%2Fstatistics%2Fattribute%2FDATENSTAND%3E+%3Fdatenstand+%3B+%0A+++++++++++%3Chttps%3A%2F%2Fld.stadt-zuerich.ch%2Fstatistics%2Fproperty%2FSEX%3E+%3Fgeschlecht+%3B+%0A+++++++++++%3Chttps%3A%2F%2Fld.stadt-zuerich.ch%2Fstatistics%2Fmeasure%2FBES%3E+%3Fbeschaftigte+%3B+%0A+++++++++++%3Chttps%3A%2F%2Fld.stadt-zuerich.ch%2Fstatistics%2Fproperty%2FBTA%3E+%3Fbetriebsart+%3B+%0A+++++++++++%3Chttps%3A%2F%2Fld.stadt-zuerich.ch%2Fstatistics%2Fproperty%2FRAUM%3E+%3Fraum+%3B+%0A+++++++++++%3Chttps%3A%2F%2Fld.stadt-zuerich.ch%2Fstatistics%2Fattribute%2FQUELLE%3E+%3Fquelle+%3B+%0A+++++++++++%3Chttps%3A%2F%2Fld.stadt-zuerich.ch%2Fstatistics%2Fproperty%2FZEIT%3E+%3Fzeit+%3B+%0A+++++++++++%3Chttps%3A%2F%2Fld.stadt-zuerich.ch%2Fstatistics%2Fattribute%2FFUSSNOTE%3E+%3Ffussnote+%3B+%0A+++++++++++%3Chttps%3A%2F%2Fld.stadt-zuerich.ch%2Fstatistics%2Fattribute%2FGLOSSAR%3E+%3Fglossar+.%0A++++++%7D%7D&contentTypeConstruct=text%2Fturle\">Open Query in YASGUI</a></td> \n",
       "    </tr>    <tr> \n",
       "        <th id=\"T_354ae072_2a1d_11e9_9401_e4a47164e0c4level0_row2\" class=\"row_heading level0 row2\" >2</th> \n",
       "        <td id=\"T_354ae072_2a1d_11e9_9401_e4a47164e0c4row2_col0\" class=\"data row2 col0\" >Beschäftigte nach Betriebsart, Raum, Zeit</td> \n",
       "        <td id=\"T_354ae072_2a1d_11e9_9401_e4a47164e0c4row2_col1\" class=\"data row2 col1\" ><a target=\"_blank\" href=\"https://ld.stadt-zuerich.ch/sparql/#requestMethod=POST&outputFormat=table&endpoint=https%3A%2F%2Fld.stadt-zuerich.ch%2Fquery&tabTitle=Example+Query&contentTypeSelect=application%2Fsparql-results%2Bjson&headers=%7B%7D&query=%0A++++PREFIX+rdf%3A+%3Chttp%3A%2F%2Fwww.w3.org%2F1999%2F02%2F22-rdf-syntax-ns%23%3E%0A++++PREFIX+rdfs%3A+%3Chttp%3A%2F%2Fwww.w3.org%2F2000%2F01%2Frdf-schema%23%3E%0A++++PREFIX+qb%3A+%3Chttp%3A%2F%2Fpurl.org%2Flinked-data%2Fcube%23%3E%0A++++SELECT+%2A+WHERE+%7B+GRAPH+%3Chttps%3A%2F%2Flinked.opendata.swiss%2Fgraph%2Fzh%2Fstatistics%3E+%7B%0A++++++%3Fobs+a+qb%3AObservation+%3B%0A+++++++++++qb%3AdataSet+%3Chttps%3A%2F%2Fld.stadt-zuerich.ch%2Fstatistics%2Fdataset%2FBES-RAUM-ZEIT-BTA%3E+%3B%0A+++++++++++%3Chttps%3A%2F%2Fld.stadt-zuerich.ch%2Fstatistics%2Fattribute%2FERWARTETE_AKTUALISIERUNG%3E+%3Ferwartete_aktualisierung+%3B+%0A+++++++++++%3Chttps%3A%2F%2Fld.stadt-zuerich.ch%2Fstatistics%2Fattribute%2FKORREKTUR%3E+%3Fkorrektur+%3B+%0A+++++++++++%3Chttps%3A%2F%2Fld.stadt-zuerich.ch%2Fstatistics%2Fattribute%2FDATENSTAND%3E+%3Fdatenstand+%3B+%0A+++++++++++%3Chttps%3A%2F%2Fld.stadt-zuerich.ch%2Fstatistics%2Fmeasure%2FBES%3E+%3Fbeschaftigte+%3B+%0A+++++++++++%3Chttps%3A%2F%2Fld.stadt-zuerich.ch%2Fstatistics%2Fproperty%2FBTA%3E+%3Fbetriebsart+%3B+%0A+++++++++++%3Chttps%3A%2F%2Fld.stadt-zuerich.ch%2Fstatistics%2Fproperty%2FRAUM%3E+%3Fraum+%3B+%0A+++++++++++%3Chttps%3A%2F%2Fld.stadt-zuerich.ch%2Fstatistics%2Fattribute%2FQUELLE%3E+%3Fquelle+%3B+%0A+++++++++++%3Chttps%3A%2F%2Fld.stadt-zuerich.ch%2Fstatistics%2Fproperty%2FZEIT%3E+%3Fzeit+%3B+%0A+++++++++++%3Chttps%3A%2F%2Fld.stadt-zuerich.ch%2Fstatistics%2Fattribute%2FFUSSNOTE%3E+%3Ffussnote+%3B+%0A+++++++++++%3Chttps%3A%2F%2Fld.stadt-zuerich.ch%2Fstatistics%2Fattribute%2FGLOSSAR%3E+%3Fglossar+.%0A++++++%7D%7D&contentTypeConstruct=text%2Fturle\">Open Query in YASGUI</a></td> \n",
       "    </tr>    <tr> \n",
       "        <th id=\"T_354ae072_2a1d_11e9_9401_e4a47164e0c4level0_row3\" class=\"row_heading level0 row3\" >3</th> \n",
       "        <td id=\"T_354ae072_2a1d_11e9_9401_e4a47164e0c4row3_col0\" class=\"data row3 col0\" >Zuschauer/innen, Besucher/innen nach Betriebsart, Heimatland, Raum, Zeit</td> \n",
       "        <td id=\"T_354ae072_2a1d_11e9_9401_e4a47164e0c4row3_col1\" class=\"data row3 col1\" ><a target=\"_blank\" href=\"https://ld.stadt-zuerich.ch/sparql/#requestMethod=POST&outputFormat=table&endpoint=https%3A%2F%2Fld.stadt-zuerich.ch%2Fquery&tabTitle=Example+Query&contentTypeSelect=application%2Fsparql-results%2Bjson&headers=%7B%7D&query=%0A++++PREFIX+rdf%3A+%3Chttp%3A%2F%2Fwww.w3.org%2F1999%2F02%2F22-rdf-syntax-ns%23%3E%0A++++PREFIX+rdfs%3A+%3Chttp%3A%2F%2Fwww.w3.org%2F2000%2F01%2Frdf-schema%23%3E%0A++++PREFIX+qb%3A+%3Chttp%3A%2F%2Fpurl.org%2Flinked-data%2Fcube%23%3E%0A++++SELECT+%2A+WHERE+%7B+GRAPH+%3Chttps%3A%2F%2Flinked.opendata.swiss%2Fgraph%2Fzh%2Fstatistics%3E+%7B%0A++++++%3Fobs+a+qb%3AObservation+%3B%0A+++++++++++qb%3AdataSet+%3Chttps%3A%2F%2Fld.stadt-zuerich.ch%2Fstatistics%2Fdataset%2FZUS-RAUM-ZEIT-BTA-HEL%3E+%3B%0A+++++++++++%3Chttps%3A%2F%2Fld.stadt-zuerich.ch%2Fstatistics%2Fattribute%2FERWARTETE_AKTUALISIERUNG%3E+%3Ferwartete_aktualisierung+%3B+%0A+++++++++++%3Chttps%3A%2F%2Fld.stadt-zuerich.ch%2Fstatistics%2Fattribute%2FKORREKTUR%3E+%3Fkorrektur+%3B+%0A+++++++++++%3Chttps%3A%2F%2Fld.stadt-zuerich.ch%2Fstatistics%2Fattribute%2FDATENSTAND%3E+%3Fdatenstand+%3B+%0A+++++++++++%3Chttps%3A%2F%2Fld.stadt-zuerich.ch%2Fstatistics%2Fproperty%2FHEL%3E+%3Fheimatland+%3B+%0A+++++++++++%3Chttps%3A%2F%2Fld.stadt-zuerich.ch%2Fstatistics%2Fmeasure%2FZUS%3E+%3Fzuschauer_innen_besucher_innen+%3B+%0A+++++++++++%3Chttps%3A%2F%2Fld.stadt-zuerich.ch%2Fstatistics%2Fproperty%2FBTA%3E+%3Fbetriebsart+%3B+%0A+++++++++++%3Chttps%3A%2F%2Fld.stadt-zuerich.ch%2Fstatistics%2Fproperty%2FRAUM%3E+%3Fraum+%3B+%0A+++++++++++%3Chttps%3A%2F%2Fld.stadt-zuerich.ch%2Fstatistics%2Fattribute%2FQUELLE%3E+%3Fquelle+%3B+%0A+++++++++++%3Chttps%3A%2F%2Fld.stadt-zuerich.ch%2Fstatistics%2Fproperty%2FZEIT%3E+%3Fzeit+%3B+%0A+++++++++++%3Chttps%3A%2F%2Fld.stadt-zuerich.ch%2Fstatistics%2Fattribute%2FFUSSNOTE%3E+%3Ffussnote+%3B+%0A+++++++++++%3Chttps%3A%2F%2Fld.stadt-zuerich.ch%2Fstatistics%2Fattribute%2FGLOSSAR%3E+%3Fglossar+.%0A++++++%7D%7D&contentTypeConstruct=text%2Fturle\">Open Query in YASGUI</a></td> \n",
       "    </tr>    <tr> \n",
       "        <th id=\"T_354ae072_2a1d_11e9_9401_e4a47164e0c4level0_row4\" class=\"row_heading level0 row4\" >4</th> \n",
       "        <td id=\"T_354ae072_2a1d_11e9_9401_e4a47164e0c4row4_col0\" class=\"data row4 col0\" >Zuschauer/innen, Besucher/innen nach Betriebsart, Raum, Geschlecht, Zeit</td> \n",
       "        <td id=\"T_354ae072_2a1d_11e9_9401_e4a47164e0c4row4_col1\" class=\"data row4 col1\" ><a target=\"_blank\" href=\"https://ld.stadt-zuerich.ch/sparql/#requestMethod=POST&outputFormat=table&endpoint=https%3A%2F%2Fld.stadt-zuerich.ch%2Fquery&tabTitle=Example+Query&contentTypeSelect=application%2Fsparql-results%2Bjson&headers=%7B%7D&query=%0A++++PREFIX+rdf%3A+%3Chttp%3A%2F%2Fwww.w3.org%2F1999%2F02%2F22-rdf-syntax-ns%23%3E%0A++++PREFIX+rdfs%3A+%3Chttp%3A%2F%2Fwww.w3.org%2F2000%2F01%2Frdf-schema%23%3E%0A++++PREFIX+qb%3A+%3Chttp%3A%2F%2Fpurl.org%2Flinked-data%2Fcube%23%3E%0A++++SELECT+%2A+WHERE+%7B+GRAPH+%3Chttps%3A%2F%2Flinked.opendata.swiss%2Fgraph%2Fzh%2Fstatistics%3E+%7B%0A++++++%3Fobs+a+qb%3AObservation+%3B%0A+++++++++++qb%3AdataSet+%3Chttps%3A%2F%2Fld.stadt-zuerich.ch%2Fstatistics%2Fdataset%2FZUS-RAUM-ZEIT-BTA-SEX%3E+%3B%0A+++++++++++%3Chttps%3A%2F%2Fld.stadt-zuerich.ch%2Fstatistics%2Fattribute%2FERWARTETE_AKTUALISIERUNG%3E+%3Ferwartete_aktualisierung+%3B+%0A+++++++++++%3Chttps%3A%2F%2Fld.stadt-zuerich.ch%2Fstatistics%2Fattribute%2FKORREKTUR%3E+%3Fkorrektur+%3B+%0A+++++++++++%3Chttps%3A%2F%2Fld.stadt-zuerich.ch%2Fstatistics%2Fattribute%2FDATENSTAND%3E+%3Fdatenstand+%3B+%0A+++++++++++%3Chttps%3A%2F%2Fld.stadt-zuerich.ch%2Fstatistics%2Fproperty%2FSEX%3E+%3Fgeschlecht+%3B+%0A+++++++++++%3Chttps%3A%2F%2Fld.stadt-zuerich.ch%2Fstatistics%2Fmeasure%2FZUS%3E+%3Fzuschauer_innen_besucher_innen+%3B+%0A+++++++++++%3Chttps%3A%2F%2Fld.stadt-zuerich.ch%2Fstatistics%2Fproperty%2FBTA%3E+%3Fbetriebsart+%3B+%0A+++++++++++%3Chttps%3A%2F%2Fld.stadt-zuerich.ch%2Fstatistics%2Fproperty%2FRAUM%3E+%3Fraum+%3B+%0A+++++++++++%3Chttps%3A%2F%2Fld.stadt-zuerich.ch%2Fstatistics%2Fattribute%2FQUELLE%3E+%3Fquelle+%3B+%0A+++++++++++%3Chttps%3A%2F%2Fld.stadt-zuerich.ch%2Fstatistics%2Fproperty%2FZEIT%3E+%3Fzeit+%3B+%0A+++++++++++%3Chttps%3A%2F%2Fld.stadt-zuerich.ch%2Fstatistics%2Fattribute%2FFUSSNOTE%3E+%3Ffussnote+%3B+%0A+++++++++++%3Chttps%3A%2F%2Fld.stadt-zuerich.ch%2Fstatistics%2Fattribute%2FGLOSSAR%3E+%3Fglossar+.%0A++++++%7D%7D&contentTypeConstruct=text%2Fturle\">Open Query in YASGUI</a></td> \n",
       "    </tr>    <tr> \n",
       "        <th id=\"T_354ae072_2a1d_11e9_9401_e4a47164e0c4level0_row5\" class=\"row_heading level0 row5\" >5</th> \n",
       "        <td id=\"T_354ae072_2a1d_11e9_9401_e4a47164e0c4row5_col0\" class=\"data row5 col0\" >Zuschauer/innen, Besucher/innen nach Betriebsart, Raum, Zeit</td> \n",
       "        <td id=\"T_354ae072_2a1d_11e9_9401_e4a47164e0c4row5_col1\" class=\"data row5 col1\" ><a target=\"_blank\" href=\"https://ld.stadt-zuerich.ch/sparql/#requestMethod=POST&outputFormat=table&endpoint=https%3A%2F%2Fld.stadt-zuerich.ch%2Fquery&tabTitle=Example+Query&contentTypeSelect=application%2Fsparql-results%2Bjson&headers=%7B%7D&query=%0A++++PREFIX+rdf%3A+%3Chttp%3A%2F%2Fwww.w3.org%2F1999%2F02%2F22-rdf-syntax-ns%23%3E%0A++++PREFIX+rdfs%3A+%3Chttp%3A%2F%2Fwww.w3.org%2F2000%2F01%2Frdf-schema%23%3E%0A++++PREFIX+qb%3A+%3Chttp%3A%2F%2Fpurl.org%2Flinked-data%2Fcube%23%3E%0A++++SELECT+%2A+WHERE+%7B+GRAPH+%3Chttps%3A%2F%2Flinked.opendata.swiss%2Fgraph%2Fzh%2Fstatistics%3E+%7B%0A++++++%3Fobs+a+qb%3AObservation+%3B%0A+++++++++++qb%3AdataSet+%3Chttps%3A%2F%2Fld.stadt-zuerich.ch%2Fstatistics%2Fdataset%2FZUS-RAUM-ZEIT-BTA%3E+%3B%0A+++++++++++%3Chttps%3A%2F%2Fld.stadt-zuerich.ch%2Fstatistics%2Fattribute%2FERWARTETE_AKTUALISIERUNG%3E+%3Ferwartete_aktualisierung+%3B+%0A+++++++++++%3Chttps%3A%2F%2Fld.stadt-zuerich.ch%2Fstatistics%2Fattribute%2FKORREKTUR%3E+%3Fkorrektur+%3B+%0A+++++++++++%3Chttps%3A%2F%2Fld.stadt-zuerich.ch%2Fstatistics%2Fattribute%2FDATENSTAND%3E+%3Fdatenstand+%3B+%0A+++++++++++%3Chttps%3A%2F%2Fld.stadt-zuerich.ch%2Fstatistics%2Fmeasure%2FZUS%3E+%3Fzuschauer_innen_besucher_innen+%3B+%0A+++++++++++%3Chttps%3A%2F%2Fld.stadt-zuerich.ch%2Fstatistics%2Fproperty%2FBTA%3E+%3Fbetriebsart+%3B+%0A+++++++++++%3Chttps%3A%2F%2Fld.stadt-zuerich.ch%2Fstatistics%2Fproperty%2FRAUM%3E+%3Fraum+%3B+%0A+++++++++++%3Chttps%3A%2F%2Fld.stadt-zuerich.ch%2Fstatistics%2Fattribute%2FQUELLE%3E+%3Fquelle+%3B+%0A+++++++++++%3Chttps%3A%2F%2Fld.stadt-zuerich.ch%2Fstatistics%2Fproperty%2FZEIT%3E+%3Fzeit+%3B+%0A+++++++++++%3Chttps%3A%2F%2Fld.stadt-zuerich.ch%2Fstatistics%2Fattribute%2FFUSSNOTE%3E+%3Ffussnote+%3B+%0A+++++++++++%3Chttps%3A%2F%2Fld.stadt-zuerich.ch%2Fstatistics%2Fattribute%2FGLOSSAR%3E+%3Fglossar+.%0A++++++%7D%7D&contentTypeConstruct=text%2Fturle\">Open Query in YASGUI</a></td> \n",
       "    </tr>    <tr> \n",
       "        <th id=\"T_354ae072_2a1d_11e9_9401_e4a47164e0c4level0_row6\" class=\"row_heading level0 row6\" >6</th> \n",
       "        <td id=\"T_354ae072_2a1d_11e9_9401_e4a47164e0c4row6_col0\" class=\"data row6 col0\" >Schüler/innen und Student/innen nach Betriebsart, Raum, Schulstufen und Fächer, Zeit</td> \n",
       "        <td id=\"T_354ae072_2a1d_11e9_9401_e4a47164e0c4row6_col1\" class=\"data row6 col1\" ><a target=\"_blank\" href=\"https://ld.stadt-zuerich.ch/sparql/#requestMethod=POST&outputFormat=table&endpoint=https%3A%2F%2Fld.stadt-zuerich.ch%2Fquery&tabTitle=Example+Query&contentTypeSelect=application%2Fsparql-results%2Bjson&headers=%7B%7D&query=%0A++++PREFIX+rdf%3A+%3Chttp%3A%2F%2Fwww.w3.org%2F1999%2F02%2F22-rdf-syntax-ns%23%3E%0A++++PREFIX+rdfs%3A+%3Chttp%3A%2F%2Fwww.w3.org%2F2000%2F01%2Frdf-schema%23%3E%0A++++PREFIX+qb%3A+%3Chttp%3A%2F%2Fpurl.org%2Flinked-data%2Fcube%23%3E%0A++++SELECT+%2A+WHERE+%7B+GRAPH+%3Chttps%3A%2F%2Flinked.opendata.swiss%2Fgraph%2Fzh%2Fstatistics%3E+%7B%0A++++++%3Fobs+a+qb%3AObservation+%3B%0A+++++++++++qb%3AdataSet+%3Chttps%3A%2F%2Fld.stadt-zuerich.ch%2Fstatistics%2Fdataset%2FSCH-RAUM-ZEIT-BTA-SST%3E+%3B%0A+++++++++++%3Chttps%3A%2F%2Fld.stadt-zuerich.ch%2Fstatistics%2Fattribute%2FERWARTETE_AKTUALISIERUNG%3E+%3Ferwartete_aktualisierung+%3B+%0A+++++++++++%3Chttps%3A%2F%2Fld.stadt-zuerich.ch%2Fstatistics%2Fattribute%2FKORREKTUR%3E+%3Fkorrektur+%3B+%0A+++++++++++%3Chttps%3A%2F%2Fld.stadt-zuerich.ch%2Fstatistics%2Fattribute%2FDATENSTAND%3E+%3Fdatenstand+%3B+%0A+++++++++++%3Chttps%3A%2F%2Fld.stadt-zuerich.ch%2Fstatistics%2Fproperty%2FSST%3E+%3Fschulstufen_und_facher+%3B+%0A+++++++++++%3Chttps%3A%2F%2Fld.stadt-zuerich.ch%2Fstatistics%2Fmeasure%2FSCH%3E+%3Fschuler_innen_und_student_innen+%3B+%0A+++++++++++%3Chttps%3A%2F%2Fld.stadt-zuerich.ch%2Fstatistics%2Fproperty%2FBTA%3E+%3Fbetriebsart+%3B+%0A+++++++++++%3Chttps%3A%2F%2Fld.stadt-zuerich.ch%2Fstatistics%2Fproperty%2FRAUM%3E+%3Fraum+%3B+%0A+++++++++++%3Chttps%3A%2F%2Fld.stadt-zuerich.ch%2Fstatistics%2Fattribute%2FQUELLE%3E+%3Fquelle+%3B+%0A+++++++++++%3Chttps%3A%2F%2Fld.stadt-zuerich.ch%2Fstatistics%2Fproperty%2FZEIT%3E+%3Fzeit+%3B+%0A+++++++++++%3Chttps%3A%2F%2Fld.stadt-zuerich.ch%2Fstatistics%2Fattribute%2FFUSSNOTE%3E+%3Ffussnote+%3B+%0A+++++++++++%3Chttps%3A%2F%2Fld.stadt-zuerich.ch%2Fstatistics%2Fattribute%2FGLOSSAR%3E+%3Fglossar+.%0A++++++%7D%7D&contentTypeConstruct=text%2Fturle\">Open Query in YASGUI</a></td> \n",
       "    </tr>    <tr> \n",
       "        <th id=\"T_354ae072_2a1d_11e9_9401_e4a47164e0c4level0_row7\" class=\"row_heading level0 row7\" >7</th> \n",
       "        <td id=\"T_354ae072_2a1d_11e9_9401_e4a47164e0c4row7_col0\" class=\"data row7 col0\" >Schüler/innen und Student/innen nach Betriebsart, Raum, Zeit</td> \n",
       "        <td id=\"T_354ae072_2a1d_11e9_9401_e4a47164e0c4row7_col1\" class=\"data row7 col1\" ><a target=\"_blank\" href=\"https://ld.stadt-zuerich.ch/sparql/#requestMethod=POST&outputFormat=table&endpoint=https%3A%2F%2Fld.stadt-zuerich.ch%2Fquery&tabTitle=Example+Query&contentTypeSelect=application%2Fsparql-results%2Bjson&headers=%7B%7D&query=%0A++++PREFIX+rdf%3A+%3Chttp%3A%2F%2Fwww.w3.org%2F1999%2F02%2F22-rdf-syntax-ns%23%3E%0A++++PREFIX+rdfs%3A+%3Chttp%3A%2F%2Fwww.w3.org%2F2000%2F01%2Frdf-schema%23%3E%0A++++PREFIX+qb%3A+%3Chttp%3A%2F%2Fpurl.org%2Flinked-data%2Fcube%23%3E%0A++++SELECT+%2A+WHERE+%7B+GRAPH+%3Chttps%3A%2F%2Flinked.opendata.swiss%2Fgraph%2Fzh%2Fstatistics%3E+%7B%0A++++++%3Fobs+a+qb%3AObservation+%3B%0A+++++++++++qb%3AdataSet+%3Chttps%3A%2F%2Fld.stadt-zuerich.ch%2Fstatistics%2Fdataset%2FSCH-RAUM-ZEIT-BTA%3E+%3B%0A+++++++++++%3Chttps%3A%2F%2Fld.stadt-zuerich.ch%2Fstatistics%2Fattribute%2FERWARTETE_AKTUALISIERUNG%3E+%3Ferwartete_aktualisierung+%3B+%0A+++++++++++%3Chttps%3A%2F%2Fld.stadt-zuerich.ch%2Fstatistics%2Fattribute%2FKORREKTUR%3E+%3Fkorrektur+%3B+%0A+++++++++++%3Chttps%3A%2F%2Fld.stadt-zuerich.ch%2Fstatistics%2Fattribute%2FDATENSTAND%3E+%3Fdatenstand+%3B+%0A+++++++++++%3Chttps%3A%2F%2Fld.stadt-zuerich.ch%2Fstatistics%2Fmeasure%2FSCH%3E+%3Fschuler_innen_und_student_innen+%3B+%0A+++++++++++%3Chttps%3A%2F%2Fld.stadt-zuerich.ch%2Fstatistics%2Fproperty%2FBTA%3E+%3Fbetriebsart+%3B+%0A+++++++++++%3Chttps%3A%2F%2Fld.stadt-zuerich.ch%2Fstatistics%2Fproperty%2FRAUM%3E+%3Fraum+%3B+%0A+++++++++++%3Chttps%3A%2F%2Fld.stadt-zuerich.ch%2Fstatistics%2Fattribute%2FQUELLE%3E+%3Fquelle+%3B+%0A+++++++++++%3Chttps%3A%2F%2Fld.stadt-zuerich.ch%2Fstatistics%2Fproperty%2FZEIT%3E+%3Fzeit+%3B+%0A+++++++++++%3Chttps%3A%2F%2Fld.stadt-zuerich.ch%2Fstatistics%2Fattribute%2FFUSSNOTE%3E+%3Ffussnote+%3B+%0A+++++++++++%3Chttps%3A%2F%2Fld.stadt-zuerich.ch%2Fstatistics%2Fattribute%2FGLOSSAR%3E+%3Fglossar+.%0A++++++%7D%7D&contentTypeConstruct=text%2Fturle\">Open Query in YASGUI</a></td> \n",
       "    </tr>    <tr> \n",
       "        <th id=\"T_354ae072_2a1d_11e9_9401_e4a47164e0c4level0_row8\" class=\"row_heading level0 row8\" >8</th> \n",
       "        <td id=\"T_354ae072_2a1d_11e9_9401_e4a47164e0c4row8_col0\" class=\"data row8 col0\" >Arbeitsstätten nach Bewilligung, Betriebsart, Raum, Zeit</td> \n",
       "        <td id=\"T_354ae072_2a1d_11e9_9401_e4a47164e0c4row8_col1\" class=\"data row8 col1\" ><a target=\"_blank\" href=\"https://ld.stadt-zuerich.ch/sparql/#requestMethod=POST&outputFormat=table&endpoint=https%3A%2F%2Fld.stadt-zuerich.ch%2Fquery&tabTitle=Example+Query&contentTypeSelect=application%2Fsparql-results%2Bjson&headers=%7B%7D&query=%0A++++PREFIX+rdf%3A+%3Chttp%3A%2F%2Fwww.w3.org%2F1999%2F02%2F22-rdf-syntax-ns%23%3E%0A++++PREFIX+rdfs%3A+%3Chttp%3A%2F%2Fwww.w3.org%2F2000%2F01%2Frdf-schema%23%3E%0A++++PREFIX+qb%3A+%3Chttp%3A%2F%2Fpurl.org%2Flinked-data%2Fcube%23%3E%0A++++SELECT+%2A+WHERE+%7B+GRAPH+%3Chttps%3A%2F%2Flinked.opendata.swiss%2Fgraph%2Fzh%2Fstatistics%3E+%7B%0A++++++%3Fobs+a+qb%3AObservation+%3B%0A+++++++++++qb%3AdataSet+%3Chttps%3A%2F%2Fld.stadt-zuerich.ch%2Fstatistics%2Fdataset%2FAST-RAUM-ZEIT-BEW-BTA%3E+%3B%0A+++++++++++%3Chttps%3A%2F%2Fld.stadt-zuerich.ch%2Fstatistics%2Fattribute%2FERWARTETE_AKTUALISIERUNG%3E+%3Ferwartete_aktualisierung+%3B+%0A+++++++++++%3Chttps%3A%2F%2Fld.stadt-zuerich.ch%2Fstatistics%2Fattribute%2FKORREKTUR%3E+%3Fkorrektur+%3B+%0A+++++++++++%3Chttps%3A%2F%2Fld.stadt-zuerich.ch%2Fstatistics%2Fattribute%2FDATENSTAND%3E+%3Fdatenstand+%3B+%0A+++++++++++%3Chttps%3A%2F%2Fld.stadt-zuerich.ch%2Fstatistics%2Fmeasure%2FAST%3E+%3Farbeitsstatten+%3B+%0A+++++++++++%3Chttps%3A%2F%2Fld.stadt-zuerich.ch%2Fstatistics%2Fproperty%2FBEW%3E+%3Fbewilligung+%3B+%0A+++++++++++%3Chttps%3A%2F%2Fld.stadt-zuerich.ch%2Fstatistics%2Fproperty%2FBTA%3E+%3Fbetriebsart+%3B+%0A+++++++++++%3Chttps%3A%2F%2Fld.stadt-zuerich.ch%2Fstatistics%2Fproperty%2FRAUM%3E+%3Fraum+%3B+%0A+++++++++++%3Chttps%3A%2F%2Fld.stadt-zuerich.ch%2Fstatistics%2Fattribute%2FQUELLE%3E+%3Fquelle+%3B+%0A+++++++++++%3Chttps%3A%2F%2Fld.stadt-zuerich.ch%2Fstatistics%2Fproperty%2FZEIT%3E+%3Fzeit+%3B+%0A+++++++++++%3Chttps%3A%2F%2Fld.stadt-zuerich.ch%2Fstatistics%2Fattribute%2FFUSSNOTE%3E+%3Ffussnote+%3B+%0A+++++++++++%3Chttps%3A%2F%2Fld.stadt-zuerich.ch%2Fstatistics%2Fattribute%2FGLOSSAR%3E+%3Fglossar+.%0A++++++%7D%7D&contentTypeConstruct=text%2Fturle\">Open Query in YASGUI</a></td> \n",
       "    </tr>    <tr> \n",
       "        <th id=\"T_354ae072_2a1d_11e9_9401_e4a47164e0c4level0_row9\" class=\"row_heading level0 row9\" >9</th> \n",
       "        <td id=\"T_354ae072_2a1d_11e9_9401_e4a47164e0c4row9_col0\" class=\"data row9 col0\" >Wirtschaftliche Wohnbevölkerung nach Raum, Zeit</td> \n",
       "        <td id=\"T_354ae072_2a1d_11e9_9401_e4a47164e0c4row9_col1\" class=\"data row9 col1\" ><a target=\"_blank\" href=\"https://ld.stadt-zuerich.ch/sparql/#requestMethod=POST&outputFormat=table&endpoint=https%3A%2F%2Fld.stadt-zuerich.ch%2Fquery&tabTitle=Example+Query&contentTypeSelect=application%2Fsparql-results%2Bjson&headers=%7B%7D&query=%0A++++PREFIX+rdf%3A+%3Chttp%3A%2F%2Fwww.w3.org%2F1999%2F02%2F22-rdf-syntax-ns%23%3E%0A++++PREFIX+rdfs%3A+%3Chttp%3A%2F%2Fwww.w3.org%2F2000%2F01%2Frdf-schema%23%3E%0A++++PREFIX+qb%3A+%3Chttp%3A%2F%2Fpurl.org%2Flinked-data%2Fcube%23%3E%0A++++SELECT+%2A+WHERE+%7B+GRAPH+%3Chttps%3A%2F%2Flinked.opendata.swiss%2Fgraph%2Fzh%2Fstatistics%3E+%7B%0A++++++%3Fobs+a+qb%3AObservation+%3B%0A+++++++++++qb%3AdataSet+%3Chttps%3A%2F%2Fld.stadt-zuerich.ch%2Fstatistics%2Fdataset%2FBEW-RAUM-ZEIT%3E+%3B%0A+++++++++++%3Chttps%3A%2F%2Fld.stadt-zuerich.ch%2Fstatistics%2Fattribute%2FDATENSTAND%3E+%3Fdatenstand+%3B+%0A+++++++++++%3Chttps%3A%2F%2Fld.stadt-zuerich.ch%2Fstatistics%2Fattribute%2FERWARTETE_AKTUALISIERUNG%3E+%3Ferwartete_aktualisierung+%3B+%0A+++++++++++%3Chttps%3A%2F%2Fld.stadt-zuerich.ch%2Fstatistics%2Fattribute%2FFUSSNOTE%3E+%3Ffussnote+%3B+%0A+++++++++++%3Chttps%3A%2F%2Fld.stadt-zuerich.ch%2Fstatistics%2Fmeasure%2FBEW%3E+%3Fwirtschaftliche_wohnbevolkerung+%3B+%0A+++++++++++%3Chttps%3A%2F%2Fld.stadt-zuerich.ch%2Fstatistics%2Fattribute%2FKORREKTUR%3E+%3Fkorrektur+%3B+%0A+++++++++++%3Chttps%3A%2F%2Fld.stadt-zuerich.ch%2Fstatistics%2Fproperty%2FRAUM%3E+%3Fraum+%3B+%0A+++++++++++%3Chttps%3A%2F%2Fld.stadt-zuerich.ch%2Fstatistics%2Fproperty%2FZEIT%3E+%3Fzeit+%3B+%0A+++++++++++%3Chttps%3A%2F%2Fld.stadt-zuerich.ch%2Fstatistics%2Fattribute%2FGLOSSAR%3E+%3Fglossar+%3B+%0A+++++++++++%3Chttps%3A%2F%2Fld.stadt-zuerich.ch%2Fstatistics%2Fattribute%2FQUELLE%3E+%3Fquelle+.%0A++++++%7D%7D&contentTypeConstruct=text%2Fturle\">Open Query in YASGUI</a></td> \n",
       "    </tr></tbody> \n",
       "</table> "
      ],
      "text/plain": [
       "<pandas.io.formats.style.Styler at 0x7fb810a5a290>"
      ]
     },
     "execution_count": 14,
     "metadata": {},
     "output_type": "execute_result"
    }
   ],
   "source": [
    "df = pd.DataFrame(data=ressources, columns=['datasetLabel', 'yasgui'])\n",
    "df.style.format({'yasgui': yasgui_clickable})"
   ]
  },
  {
   "cell_type": "code",
   "execution_count": 15,
   "metadata": {},
   "outputs": [
    {
     "data": {
      "text/html": [
       "<p>Arbeitsstätten nach Betriebsart, Raum, Zeit: <a href='https://ld.stadt-zuerich.ch/sparql/#requestMethod=POST&outputFormat=table&endpoint=https%3A%2F%2Fld.stadt-zuerich.ch%2Fquery&tabTitle=Example+Query&contentTypeSelect=application%2Fsparql-results%2Bjson&headers=%7B%7D&query=%0A++++PREFIX+rdf%3A+%3Chttp%3A%2F%2Fwww.w3.org%2F1999%2F02%2F22-rdf-syntax-ns%23%3E%0A++++PREFIX+rdfs%3A+%3Chttp%3A%2F%2Fwww.w3.org%2F2000%2F01%2Frdf-schema%23%3E%0A++++PREFIX+qb%3A+%3Chttp%3A%2F%2Fpurl.org%2Flinked-data%2Fcube%23%3E%0A++++SELECT+%2A+WHERE+%7B+GRAPH+%3Chttps%3A%2F%2Flinked.opendata.swiss%2Fgraph%2Fzh%2Fstatistics%3E+%7B%0A++++++%3Fobs+a+qb%3AObservation+%3B%0A+++++++++++qb%3AdataSet+%3Chttps%3A%2F%2Fld.stadt-zuerich.ch%2Fstatistics%2Fdataset%2FAST-RAUM-ZEIT-BTA%3E+%3B%0A+++++++++++%3Chttps%3A%2F%2Fld.stadt-zuerich.ch%2Fstatistics%2Fattribute%2FERWARTETE_AKTUALISIERUNG%3E+%3Ferwartete_aktualisierung+%3B+%0A+++++++++++%3Chttps%3A%2F%2Fld.stadt-zuerich.ch%2Fstatistics%2Fattribute%2FKORREKTUR%3E+%3Fkorrektur+%3B+%0A+++++++++++%3Chttps%3A%2F%2Fld.stadt-zuerich.ch%2Fstatistics%2Fattribute%2FDATENSTAND%3E+%3Fdatenstand+%3B+%0A+++++++++++%3Chttps%3A%2F%2Fld.stadt-zuerich.ch%2Fstatistics%2Fmeasure%2FAST%3E+%3Farbeitsstatten+%3B+%0A+++++++++++%3Chttps%3A%2F%2Fld.stadt-zuerich.ch%2Fstatistics%2Fproperty%2FBTA%3E+%3Fbetriebsart+%3B+%0A+++++++++++%3Chttps%3A%2F%2Fld.stadt-zuerich.ch%2Fstatistics%2Fproperty%2FRAUM%3E+%3Fraum+%3B+%0A+++++++++++%3Chttps%3A%2F%2Fld.stadt-zuerich.ch%2Fstatistics%2Fattribute%2FQUELLE%3E+%3Fquelle+%3B+%0A+++++++++++%3Chttps%3A%2F%2Fld.stadt-zuerich.ch%2Fstatistics%2Fproperty%2FZEIT%3E+%3Fzeit+%3B+%0A+++++++++++%3Chttps%3A%2F%2Fld.stadt-zuerich.ch%2Fstatistics%2Fattribute%2FFUSSNOTE%3E+%3Ffussnote+%3B+%0A+++++++++++%3Chttps%3A%2F%2Fld.stadt-zuerich.ch%2Fstatistics%2Fattribute%2FGLOSSAR%3E+%3Fglossar+.%0A++++++%7D%7D&contentTypeConstruct=text%2Fturle'>YASGUI</a><pre>"
      ],
      "text/plain": [
       "<IPython.core.display.HTML object>"
      ]
     },
     "metadata": {},
     "output_type": "display_data"
    },
    {
     "data": {
      "text/plain": [
       "\n",
       "    PREFIX rdf: <http://www.w3.org/1999/02/22-rdf-syntax-ns#>\n",
       "    PREFIX rdfs: <http://www.w3.org/2000/01/rdf-schema#>\n",
       "    PREFIX qb: <http://purl.org/linked-data/cube#>\n",
       "    SELECT * WHERE { GRAPH <https://linked.opendata.swiss/graph/zh/statistics> {\n",
       "      ?obs a qb:Observation ;\n",
       "           qb:dataSet <https://ld.stadt-zuerich.ch/statistics/dataset/AST-RAUM-ZEIT-BTA> ;\n",
       "           <https://ld.stadt-zuerich.ch/statistics/attribute/ERWARTETE_AKTUALISIERUNG> ?erwartete_aktualisierung ; \n",
       "           <https://ld.stadt-zuerich.ch/statistics/attribute/KORREKTUR> ?korrektur ; \n",
       "           <https://ld.stadt-zuerich.ch/statistics/attribute/DATENSTAND> ?datenstand ; \n",
       "           <https://ld.stadt-zuerich.ch/statistics/measure/AST> ?arbeitsstatten ; \n",
       "           <https://ld.stadt-zuerich.ch/statistics/property/BTA> ?betriebsart ; \n",
       "           <https://ld.stadt-zuerich.ch/statistics/property/RAUM> ?raum ; \n",
       "           <https://ld.stadt-zuerich.ch/statistics/attribute/QUELLE> ?quelle ; \n",
       "           <https://ld.stadt-zuerich.ch/statistics/property/ZEIT> ?zeit ; \n",
       "           <https://ld.stadt-zuerich.ch/statistics/attribute/FUSSNOTE> ?fussnote ; \n",
       "           <https://ld.stadt-zuerich.ch/statistics/attribute/GLOSSAR> ?glossar .\n",
       "      }}"
      ]
     },
     "metadata": {},
     "output_type": "display_data"
    },
    {
     "data": {
      "text/html": [
       "</pre></p>"
      ],
      "text/plain": [
       "<IPython.core.display.HTML object>"
      ]
     },
     "metadata": {},
     "output_type": "display_data"
    },
    {
     "data": {
      "text/html": [
       "<p>Beschäftigte nach Betriebsart, Raum, Geschlecht, Zeit: <a href='https://ld.stadt-zuerich.ch/sparql/#requestMethod=POST&outputFormat=table&endpoint=https%3A%2F%2Fld.stadt-zuerich.ch%2Fquery&tabTitle=Example+Query&contentTypeSelect=application%2Fsparql-results%2Bjson&headers=%7B%7D&query=%0A++++PREFIX+rdf%3A+%3Chttp%3A%2F%2Fwww.w3.org%2F1999%2F02%2F22-rdf-syntax-ns%23%3E%0A++++PREFIX+rdfs%3A+%3Chttp%3A%2F%2Fwww.w3.org%2F2000%2F01%2Frdf-schema%23%3E%0A++++PREFIX+qb%3A+%3Chttp%3A%2F%2Fpurl.org%2Flinked-data%2Fcube%23%3E%0A++++SELECT+%2A+WHERE+%7B+GRAPH+%3Chttps%3A%2F%2Flinked.opendata.swiss%2Fgraph%2Fzh%2Fstatistics%3E+%7B%0A++++++%3Fobs+a+qb%3AObservation+%3B%0A+++++++++++qb%3AdataSet+%3Chttps%3A%2F%2Fld.stadt-zuerich.ch%2Fstatistics%2Fdataset%2FBES-RAUM-ZEIT-BTA-SEX%3E+%3B%0A+++++++++++%3Chttps%3A%2F%2Fld.stadt-zuerich.ch%2Fstatistics%2Fattribute%2FERWARTETE_AKTUALISIERUNG%3E+%3Ferwartete_aktualisierung+%3B+%0A+++++++++++%3Chttps%3A%2F%2Fld.stadt-zuerich.ch%2Fstatistics%2Fattribute%2FKORREKTUR%3E+%3Fkorrektur+%3B+%0A+++++++++++%3Chttps%3A%2F%2Fld.stadt-zuerich.ch%2Fstatistics%2Fattribute%2FDATENSTAND%3E+%3Fdatenstand+%3B+%0A+++++++++++%3Chttps%3A%2F%2Fld.stadt-zuerich.ch%2Fstatistics%2Fproperty%2FSEX%3E+%3Fgeschlecht+%3B+%0A+++++++++++%3Chttps%3A%2F%2Fld.stadt-zuerich.ch%2Fstatistics%2Fmeasure%2FBES%3E+%3Fbeschaftigte+%3B+%0A+++++++++++%3Chttps%3A%2F%2Fld.stadt-zuerich.ch%2Fstatistics%2Fproperty%2FBTA%3E+%3Fbetriebsart+%3B+%0A+++++++++++%3Chttps%3A%2F%2Fld.stadt-zuerich.ch%2Fstatistics%2Fproperty%2FRAUM%3E+%3Fraum+%3B+%0A+++++++++++%3Chttps%3A%2F%2Fld.stadt-zuerich.ch%2Fstatistics%2Fattribute%2FQUELLE%3E+%3Fquelle+%3B+%0A+++++++++++%3Chttps%3A%2F%2Fld.stadt-zuerich.ch%2Fstatistics%2Fproperty%2FZEIT%3E+%3Fzeit+%3B+%0A+++++++++++%3Chttps%3A%2F%2Fld.stadt-zuerich.ch%2Fstatistics%2Fattribute%2FFUSSNOTE%3E+%3Ffussnote+%3B+%0A+++++++++++%3Chttps%3A%2F%2Fld.stadt-zuerich.ch%2Fstatistics%2Fattribute%2FGLOSSAR%3E+%3Fglossar+.%0A++++++%7D%7D&contentTypeConstruct=text%2Fturle'>YASGUI</a><pre>"
      ],
      "text/plain": [
       "<IPython.core.display.HTML object>"
      ]
     },
     "metadata": {},
     "output_type": "display_data"
    },
    {
     "data": {
      "text/plain": [
       "\n",
       "    PREFIX rdf: <http://www.w3.org/1999/02/22-rdf-syntax-ns#>\n",
       "    PREFIX rdfs: <http://www.w3.org/2000/01/rdf-schema#>\n",
       "    PREFIX qb: <http://purl.org/linked-data/cube#>\n",
       "    SELECT * WHERE { GRAPH <https://linked.opendata.swiss/graph/zh/statistics> {\n",
       "      ?obs a qb:Observation ;\n",
       "           qb:dataSet <https://ld.stadt-zuerich.ch/statistics/dataset/BES-RAUM-ZEIT-BTA-SEX> ;\n",
       "           <https://ld.stadt-zuerich.ch/statistics/attribute/ERWARTETE_AKTUALISIERUNG> ?erwartete_aktualisierung ; \n",
       "           <https://ld.stadt-zuerich.ch/statistics/attribute/KORREKTUR> ?korrektur ; \n",
       "           <https://ld.stadt-zuerich.ch/statistics/attribute/DATENSTAND> ?datenstand ; \n",
       "           <https://ld.stadt-zuerich.ch/statistics/property/SEX> ?geschlecht ; \n",
       "           <https://ld.stadt-zuerich.ch/statistics/measure/BES> ?beschaftigte ; \n",
       "           <https://ld.stadt-zuerich.ch/statistics/property/BTA> ?betriebsart ; \n",
       "           <https://ld.stadt-zuerich.ch/statistics/property/RAUM> ?raum ; \n",
       "           <https://ld.stadt-zuerich.ch/statistics/attribute/QUELLE> ?quelle ; \n",
       "           <https://ld.stadt-zuerich.ch/statistics/property/ZEIT> ?zeit ; \n",
       "           <https://ld.stadt-zuerich.ch/statistics/attribute/FUSSNOTE> ?fussnote ; \n",
       "           <https://ld.stadt-zuerich.ch/statistics/attribute/GLOSSAR> ?glossar .\n",
       "      }}"
      ]
     },
     "metadata": {},
     "output_type": "display_data"
    },
    {
     "data": {
      "text/html": [
       "</pre></p>"
      ],
      "text/plain": [
       "<IPython.core.display.HTML object>"
      ]
     },
     "metadata": {},
     "output_type": "display_data"
    },
    {
     "data": {
      "text/html": [
       "<p>Beschäftigte nach Betriebsart, Raum, Zeit: <a href='https://ld.stadt-zuerich.ch/sparql/#requestMethod=POST&outputFormat=table&endpoint=https%3A%2F%2Fld.stadt-zuerich.ch%2Fquery&tabTitle=Example+Query&contentTypeSelect=application%2Fsparql-results%2Bjson&headers=%7B%7D&query=%0A++++PREFIX+rdf%3A+%3Chttp%3A%2F%2Fwww.w3.org%2F1999%2F02%2F22-rdf-syntax-ns%23%3E%0A++++PREFIX+rdfs%3A+%3Chttp%3A%2F%2Fwww.w3.org%2F2000%2F01%2Frdf-schema%23%3E%0A++++PREFIX+qb%3A+%3Chttp%3A%2F%2Fpurl.org%2Flinked-data%2Fcube%23%3E%0A++++SELECT+%2A+WHERE+%7B+GRAPH+%3Chttps%3A%2F%2Flinked.opendata.swiss%2Fgraph%2Fzh%2Fstatistics%3E+%7B%0A++++++%3Fobs+a+qb%3AObservation+%3B%0A+++++++++++qb%3AdataSet+%3Chttps%3A%2F%2Fld.stadt-zuerich.ch%2Fstatistics%2Fdataset%2FBES-RAUM-ZEIT-BTA%3E+%3B%0A+++++++++++%3Chttps%3A%2F%2Fld.stadt-zuerich.ch%2Fstatistics%2Fattribute%2FERWARTETE_AKTUALISIERUNG%3E+%3Ferwartete_aktualisierung+%3B+%0A+++++++++++%3Chttps%3A%2F%2Fld.stadt-zuerich.ch%2Fstatistics%2Fattribute%2FKORREKTUR%3E+%3Fkorrektur+%3B+%0A+++++++++++%3Chttps%3A%2F%2Fld.stadt-zuerich.ch%2Fstatistics%2Fattribute%2FDATENSTAND%3E+%3Fdatenstand+%3B+%0A+++++++++++%3Chttps%3A%2F%2Fld.stadt-zuerich.ch%2Fstatistics%2Fmeasure%2FBES%3E+%3Fbeschaftigte+%3B+%0A+++++++++++%3Chttps%3A%2F%2Fld.stadt-zuerich.ch%2Fstatistics%2Fproperty%2FBTA%3E+%3Fbetriebsart+%3B+%0A+++++++++++%3Chttps%3A%2F%2Fld.stadt-zuerich.ch%2Fstatistics%2Fproperty%2FRAUM%3E+%3Fraum+%3B+%0A+++++++++++%3Chttps%3A%2F%2Fld.stadt-zuerich.ch%2Fstatistics%2Fattribute%2FQUELLE%3E+%3Fquelle+%3B+%0A+++++++++++%3Chttps%3A%2F%2Fld.stadt-zuerich.ch%2Fstatistics%2Fproperty%2FZEIT%3E+%3Fzeit+%3B+%0A+++++++++++%3Chttps%3A%2F%2Fld.stadt-zuerich.ch%2Fstatistics%2Fattribute%2FFUSSNOTE%3E+%3Ffussnote+%3B+%0A+++++++++++%3Chttps%3A%2F%2Fld.stadt-zuerich.ch%2Fstatistics%2Fattribute%2FGLOSSAR%3E+%3Fglossar+.%0A++++++%7D%7D&contentTypeConstruct=text%2Fturle'>YASGUI</a><pre>"
      ],
      "text/plain": [
       "<IPython.core.display.HTML object>"
      ]
     },
     "metadata": {},
     "output_type": "display_data"
    },
    {
     "data": {
      "text/plain": [
       "\n",
       "    PREFIX rdf: <http://www.w3.org/1999/02/22-rdf-syntax-ns#>\n",
       "    PREFIX rdfs: <http://www.w3.org/2000/01/rdf-schema#>\n",
       "    PREFIX qb: <http://purl.org/linked-data/cube#>\n",
       "    SELECT * WHERE { GRAPH <https://linked.opendata.swiss/graph/zh/statistics> {\n",
       "      ?obs a qb:Observation ;\n",
       "           qb:dataSet <https://ld.stadt-zuerich.ch/statistics/dataset/BES-RAUM-ZEIT-BTA> ;\n",
       "           <https://ld.stadt-zuerich.ch/statistics/attribute/ERWARTETE_AKTUALISIERUNG> ?erwartete_aktualisierung ; \n",
       "           <https://ld.stadt-zuerich.ch/statistics/attribute/KORREKTUR> ?korrektur ; \n",
       "           <https://ld.stadt-zuerich.ch/statistics/attribute/DATENSTAND> ?datenstand ; \n",
       "           <https://ld.stadt-zuerich.ch/statistics/measure/BES> ?beschaftigte ; \n",
       "           <https://ld.stadt-zuerich.ch/statistics/property/BTA> ?betriebsart ; \n",
       "           <https://ld.stadt-zuerich.ch/statistics/property/RAUM> ?raum ; \n",
       "           <https://ld.stadt-zuerich.ch/statistics/attribute/QUELLE> ?quelle ; \n",
       "           <https://ld.stadt-zuerich.ch/statistics/property/ZEIT> ?zeit ; \n",
       "           <https://ld.stadt-zuerich.ch/statistics/attribute/FUSSNOTE> ?fussnote ; \n",
       "           <https://ld.stadt-zuerich.ch/statistics/attribute/GLOSSAR> ?glossar .\n",
       "      }}"
      ]
     },
     "metadata": {},
     "output_type": "display_data"
    },
    {
     "data": {
      "text/html": [
       "</pre></p>"
      ],
      "text/plain": [
       "<IPython.core.display.HTML object>"
      ]
     },
     "metadata": {},
     "output_type": "display_data"
    },
    {
     "data": {
      "text/html": [
       "<p>Zuschauer/innen, Besucher/innen nach Betriebsart, Heimatland, Raum, Zeit: <a href='https://ld.stadt-zuerich.ch/sparql/#requestMethod=POST&outputFormat=table&endpoint=https%3A%2F%2Fld.stadt-zuerich.ch%2Fquery&tabTitle=Example+Query&contentTypeSelect=application%2Fsparql-results%2Bjson&headers=%7B%7D&query=%0A++++PREFIX+rdf%3A+%3Chttp%3A%2F%2Fwww.w3.org%2F1999%2F02%2F22-rdf-syntax-ns%23%3E%0A++++PREFIX+rdfs%3A+%3Chttp%3A%2F%2Fwww.w3.org%2F2000%2F01%2Frdf-schema%23%3E%0A++++PREFIX+qb%3A+%3Chttp%3A%2F%2Fpurl.org%2Flinked-data%2Fcube%23%3E%0A++++SELECT+%2A+WHERE+%7B+GRAPH+%3Chttps%3A%2F%2Flinked.opendata.swiss%2Fgraph%2Fzh%2Fstatistics%3E+%7B%0A++++++%3Fobs+a+qb%3AObservation+%3B%0A+++++++++++qb%3AdataSet+%3Chttps%3A%2F%2Fld.stadt-zuerich.ch%2Fstatistics%2Fdataset%2FZUS-RAUM-ZEIT-BTA-HEL%3E+%3B%0A+++++++++++%3Chttps%3A%2F%2Fld.stadt-zuerich.ch%2Fstatistics%2Fattribute%2FERWARTETE_AKTUALISIERUNG%3E+%3Ferwartete_aktualisierung+%3B+%0A+++++++++++%3Chttps%3A%2F%2Fld.stadt-zuerich.ch%2Fstatistics%2Fattribute%2FKORREKTUR%3E+%3Fkorrektur+%3B+%0A+++++++++++%3Chttps%3A%2F%2Fld.stadt-zuerich.ch%2Fstatistics%2Fattribute%2FDATENSTAND%3E+%3Fdatenstand+%3B+%0A+++++++++++%3Chttps%3A%2F%2Fld.stadt-zuerich.ch%2Fstatistics%2Fproperty%2FHEL%3E+%3Fheimatland+%3B+%0A+++++++++++%3Chttps%3A%2F%2Fld.stadt-zuerich.ch%2Fstatistics%2Fmeasure%2FZUS%3E+%3Fzuschauer_innen_besucher_innen+%3B+%0A+++++++++++%3Chttps%3A%2F%2Fld.stadt-zuerich.ch%2Fstatistics%2Fproperty%2FBTA%3E+%3Fbetriebsart+%3B+%0A+++++++++++%3Chttps%3A%2F%2Fld.stadt-zuerich.ch%2Fstatistics%2Fproperty%2FRAUM%3E+%3Fraum+%3B+%0A+++++++++++%3Chttps%3A%2F%2Fld.stadt-zuerich.ch%2Fstatistics%2Fattribute%2FQUELLE%3E+%3Fquelle+%3B+%0A+++++++++++%3Chttps%3A%2F%2Fld.stadt-zuerich.ch%2Fstatistics%2Fproperty%2FZEIT%3E+%3Fzeit+%3B+%0A+++++++++++%3Chttps%3A%2F%2Fld.stadt-zuerich.ch%2Fstatistics%2Fattribute%2FFUSSNOTE%3E+%3Ffussnote+%3B+%0A+++++++++++%3Chttps%3A%2F%2Fld.stadt-zuerich.ch%2Fstatistics%2Fattribute%2FGLOSSAR%3E+%3Fglossar+.%0A++++++%7D%7D&contentTypeConstruct=text%2Fturle'>YASGUI</a><pre>"
      ],
      "text/plain": [
       "<IPython.core.display.HTML object>"
      ]
     },
     "metadata": {},
     "output_type": "display_data"
    },
    {
     "data": {
      "text/plain": [
       "\n",
       "    PREFIX rdf: <http://www.w3.org/1999/02/22-rdf-syntax-ns#>\n",
       "    PREFIX rdfs: <http://www.w3.org/2000/01/rdf-schema#>\n",
       "    PREFIX qb: <http://purl.org/linked-data/cube#>\n",
       "    SELECT * WHERE { GRAPH <https://linked.opendata.swiss/graph/zh/statistics> {\n",
       "      ?obs a qb:Observation ;\n",
       "           qb:dataSet <https://ld.stadt-zuerich.ch/statistics/dataset/ZUS-RAUM-ZEIT-BTA-HEL> ;\n",
       "           <https://ld.stadt-zuerich.ch/statistics/attribute/ERWARTETE_AKTUALISIERUNG> ?erwartete_aktualisierung ; \n",
       "           <https://ld.stadt-zuerich.ch/statistics/attribute/KORREKTUR> ?korrektur ; \n",
       "           <https://ld.stadt-zuerich.ch/statistics/attribute/DATENSTAND> ?datenstand ; \n",
       "           <https://ld.stadt-zuerich.ch/statistics/property/HEL> ?heimatland ; \n",
       "           <https://ld.stadt-zuerich.ch/statistics/measure/ZUS> ?zuschauer_innen_besucher_innen ; \n",
       "           <https://ld.stadt-zuerich.ch/statistics/property/BTA> ?betriebsart ; \n",
       "           <https://ld.stadt-zuerich.ch/statistics/property/RAUM> ?raum ; \n",
       "           <https://ld.stadt-zuerich.ch/statistics/attribute/QUELLE> ?quelle ; \n",
       "           <https://ld.stadt-zuerich.ch/statistics/property/ZEIT> ?zeit ; \n",
       "           <https://ld.stadt-zuerich.ch/statistics/attribute/FUSSNOTE> ?fussnote ; \n",
       "           <https://ld.stadt-zuerich.ch/statistics/attribute/GLOSSAR> ?glossar .\n",
       "      }}"
      ]
     },
     "metadata": {},
     "output_type": "display_data"
    },
    {
     "data": {
      "text/html": [
       "</pre></p>"
      ],
      "text/plain": [
       "<IPython.core.display.HTML object>"
      ]
     },
     "metadata": {},
     "output_type": "display_data"
    },
    {
     "data": {
      "text/html": [
       "<p>Zuschauer/innen, Besucher/innen nach Betriebsart, Raum, Geschlecht, Zeit: <a href='https://ld.stadt-zuerich.ch/sparql/#requestMethod=POST&outputFormat=table&endpoint=https%3A%2F%2Fld.stadt-zuerich.ch%2Fquery&tabTitle=Example+Query&contentTypeSelect=application%2Fsparql-results%2Bjson&headers=%7B%7D&query=%0A++++PREFIX+rdf%3A+%3Chttp%3A%2F%2Fwww.w3.org%2F1999%2F02%2F22-rdf-syntax-ns%23%3E%0A++++PREFIX+rdfs%3A+%3Chttp%3A%2F%2Fwww.w3.org%2F2000%2F01%2Frdf-schema%23%3E%0A++++PREFIX+qb%3A+%3Chttp%3A%2F%2Fpurl.org%2Flinked-data%2Fcube%23%3E%0A++++SELECT+%2A+WHERE+%7B+GRAPH+%3Chttps%3A%2F%2Flinked.opendata.swiss%2Fgraph%2Fzh%2Fstatistics%3E+%7B%0A++++++%3Fobs+a+qb%3AObservation+%3B%0A+++++++++++qb%3AdataSet+%3Chttps%3A%2F%2Fld.stadt-zuerich.ch%2Fstatistics%2Fdataset%2FZUS-RAUM-ZEIT-BTA-SEX%3E+%3B%0A+++++++++++%3Chttps%3A%2F%2Fld.stadt-zuerich.ch%2Fstatistics%2Fattribute%2FERWARTETE_AKTUALISIERUNG%3E+%3Ferwartete_aktualisierung+%3B+%0A+++++++++++%3Chttps%3A%2F%2Fld.stadt-zuerich.ch%2Fstatistics%2Fattribute%2FKORREKTUR%3E+%3Fkorrektur+%3B+%0A+++++++++++%3Chttps%3A%2F%2Fld.stadt-zuerich.ch%2Fstatistics%2Fattribute%2FDATENSTAND%3E+%3Fdatenstand+%3B+%0A+++++++++++%3Chttps%3A%2F%2Fld.stadt-zuerich.ch%2Fstatistics%2Fproperty%2FSEX%3E+%3Fgeschlecht+%3B+%0A+++++++++++%3Chttps%3A%2F%2Fld.stadt-zuerich.ch%2Fstatistics%2Fmeasure%2FZUS%3E+%3Fzuschauer_innen_besucher_innen+%3B+%0A+++++++++++%3Chttps%3A%2F%2Fld.stadt-zuerich.ch%2Fstatistics%2Fproperty%2FBTA%3E+%3Fbetriebsart+%3B+%0A+++++++++++%3Chttps%3A%2F%2Fld.stadt-zuerich.ch%2Fstatistics%2Fproperty%2FRAUM%3E+%3Fraum+%3B+%0A+++++++++++%3Chttps%3A%2F%2Fld.stadt-zuerich.ch%2Fstatistics%2Fattribute%2FQUELLE%3E+%3Fquelle+%3B+%0A+++++++++++%3Chttps%3A%2F%2Fld.stadt-zuerich.ch%2Fstatistics%2Fproperty%2FZEIT%3E+%3Fzeit+%3B+%0A+++++++++++%3Chttps%3A%2F%2Fld.stadt-zuerich.ch%2Fstatistics%2Fattribute%2FFUSSNOTE%3E+%3Ffussnote+%3B+%0A+++++++++++%3Chttps%3A%2F%2Fld.stadt-zuerich.ch%2Fstatistics%2Fattribute%2FGLOSSAR%3E+%3Fglossar+.%0A++++++%7D%7D&contentTypeConstruct=text%2Fturle'>YASGUI</a><pre>"
      ],
      "text/plain": [
       "<IPython.core.display.HTML object>"
      ]
     },
     "metadata": {},
     "output_type": "display_data"
    },
    {
     "data": {
      "text/plain": [
       "\n",
       "    PREFIX rdf: <http://www.w3.org/1999/02/22-rdf-syntax-ns#>\n",
       "    PREFIX rdfs: <http://www.w3.org/2000/01/rdf-schema#>\n",
       "    PREFIX qb: <http://purl.org/linked-data/cube#>\n",
       "    SELECT * WHERE { GRAPH <https://linked.opendata.swiss/graph/zh/statistics> {\n",
       "      ?obs a qb:Observation ;\n",
       "           qb:dataSet <https://ld.stadt-zuerich.ch/statistics/dataset/ZUS-RAUM-ZEIT-BTA-SEX> ;\n",
       "           <https://ld.stadt-zuerich.ch/statistics/attribute/ERWARTETE_AKTUALISIERUNG> ?erwartete_aktualisierung ; \n",
       "           <https://ld.stadt-zuerich.ch/statistics/attribute/KORREKTUR> ?korrektur ; \n",
       "           <https://ld.stadt-zuerich.ch/statistics/attribute/DATENSTAND> ?datenstand ; \n",
       "           <https://ld.stadt-zuerich.ch/statistics/property/SEX> ?geschlecht ; \n",
       "           <https://ld.stadt-zuerich.ch/statistics/measure/ZUS> ?zuschauer_innen_besucher_innen ; \n",
       "           <https://ld.stadt-zuerich.ch/statistics/property/BTA> ?betriebsart ; \n",
       "           <https://ld.stadt-zuerich.ch/statistics/property/RAUM> ?raum ; \n",
       "           <https://ld.stadt-zuerich.ch/statistics/attribute/QUELLE> ?quelle ; \n",
       "           <https://ld.stadt-zuerich.ch/statistics/property/ZEIT> ?zeit ; \n",
       "           <https://ld.stadt-zuerich.ch/statistics/attribute/FUSSNOTE> ?fussnote ; \n",
       "           <https://ld.stadt-zuerich.ch/statistics/attribute/GLOSSAR> ?glossar .\n",
       "      }}"
      ]
     },
     "metadata": {},
     "output_type": "display_data"
    },
    {
     "data": {
      "text/html": [
       "</pre></p>"
      ],
      "text/plain": [
       "<IPython.core.display.HTML object>"
      ]
     },
     "metadata": {},
     "output_type": "display_data"
    },
    {
     "data": {
      "text/html": [
       "<p>Zuschauer/innen, Besucher/innen nach Betriebsart, Raum, Zeit: <a href='https://ld.stadt-zuerich.ch/sparql/#requestMethod=POST&outputFormat=table&endpoint=https%3A%2F%2Fld.stadt-zuerich.ch%2Fquery&tabTitle=Example+Query&contentTypeSelect=application%2Fsparql-results%2Bjson&headers=%7B%7D&query=%0A++++PREFIX+rdf%3A+%3Chttp%3A%2F%2Fwww.w3.org%2F1999%2F02%2F22-rdf-syntax-ns%23%3E%0A++++PREFIX+rdfs%3A+%3Chttp%3A%2F%2Fwww.w3.org%2F2000%2F01%2Frdf-schema%23%3E%0A++++PREFIX+qb%3A+%3Chttp%3A%2F%2Fpurl.org%2Flinked-data%2Fcube%23%3E%0A++++SELECT+%2A+WHERE+%7B+GRAPH+%3Chttps%3A%2F%2Flinked.opendata.swiss%2Fgraph%2Fzh%2Fstatistics%3E+%7B%0A++++++%3Fobs+a+qb%3AObservation+%3B%0A+++++++++++qb%3AdataSet+%3Chttps%3A%2F%2Fld.stadt-zuerich.ch%2Fstatistics%2Fdataset%2FZUS-RAUM-ZEIT-BTA%3E+%3B%0A+++++++++++%3Chttps%3A%2F%2Fld.stadt-zuerich.ch%2Fstatistics%2Fattribute%2FERWARTETE_AKTUALISIERUNG%3E+%3Ferwartete_aktualisierung+%3B+%0A+++++++++++%3Chttps%3A%2F%2Fld.stadt-zuerich.ch%2Fstatistics%2Fattribute%2FKORREKTUR%3E+%3Fkorrektur+%3B+%0A+++++++++++%3Chttps%3A%2F%2Fld.stadt-zuerich.ch%2Fstatistics%2Fattribute%2FDATENSTAND%3E+%3Fdatenstand+%3B+%0A+++++++++++%3Chttps%3A%2F%2Fld.stadt-zuerich.ch%2Fstatistics%2Fmeasure%2FZUS%3E+%3Fzuschauer_innen_besucher_innen+%3B+%0A+++++++++++%3Chttps%3A%2F%2Fld.stadt-zuerich.ch%2Fstatistics%2Fproperty%2FBTA%3E+%3Fbetriebsart+%3B+%0A+++++++++++%3Chttps%3A%2F%2Fld.stadt-zuerich.ch%2Fstatistics%2Fproperty%2FRAUM%3E+%3Fraum+%3B+%0A+++++++++++%3Chttps%3A%2F%2Fld.stadt-zuerich.ch%2Fstatistics%2Fattribute%2FQUELLE%3E+%3Fquelle+%3B+%0A+++++++++++%3Chttps%3A%2F%2Fld.stadt-zuerich.ch%2Fstatistics%2Fproperty%2FZEIT%3E+%3Fzeit+%3B+%0A+++++++++++%3Chttps%3A%2F%2Fld.stadt-zuerich.ch%2Fstatistics%2Fattribute%2FFUSSNOTE%3E+%3Ffussnote+%3B+%0A+++++++++++%3Chttps%3A%2F%2Fld.stadt-zuerich.ch%2Fstatistics%2Fattribute%2FGLOSSAR%3E+%3Fglossar+.%0A++++++%7D%7D&contentTypeConstruct=text%2Fturle'>YASGUI</a><pre>"
      ],
      "text/plain": [
       "<IPython.core.display.HTML object>"
      ]
     },
     "metadata": {},
     "output_type": "display_data"
    },
    {
     "data": {
      "text/plain": [
       "\n",
       "    PREFIX rdf: <http://www.w3.org/1999/02/22-rdf-syntax-ns#>\n",
       "    PREFIX rdfs: <http://www.w3.org/2000/01/rdf-schema#>\n",
       "    PREFIX qb: <http://purl.org/linked-data/cube#>\n",
       "    SELECT * WHERE { GRAPH <https://linked.opendata.swiss/graph/zh/statistics> {\n",
       "      ?obs a qb:Observation ;\n",
       "           qb:dataSet <https://ld.stadt-zuerich.ch/statistics/dataset/ZUS-RAUM-ZEIT-BTA> ;\n",
       "           <https://ld.stadt-zuerich.ch/statistics/attribute/ERWARTETE_AKTUALISIERUNG> ?erwartete_aktualisierung ; \n",
       "           <https://ld.stadt-zuerich.ch/statistics/attribute/KORREKTUR> ?korrektur ; \n",
       "           <https://ld.stadt-zuerich.ch/statistics/attribute/DATENSTAND> ?datenstand ; \n",
       "           <https://ld.stadt-zuerich.ch/statistics/measure/ZUS> ?zuschauer_innen_besucher_innen ; \n",
       "           <https://ld.stadt-zuerich.ch/statistics/property/BTA> ?betriebsart ; \n",
       "           <https://ld.stadt-zuerich.ch/statistics/property/RAUM> ?raum ; \n",
       "           <https://ld.stadt-zuerich.ch/statistics/attribute/QUELLE> ?quelle ; \n",
       "           <https://ld.stadt-zuerich.ch/statistics/property/ZEIT> ?zeit ; \n",
       "           <https://ld.stadt-zuerich.ch/statistics/attribute/FUSSNOTE> ?fussnote ; \n",
       "           <https://ld.stadt-zuerich.ch/statistics/attribute/GLOSSAR> ?glossar .\n",
       "      }}"
      ]
     },
     "metadata": {},
     "output_type": "display_data"
    },
    {
     "data": {
      "text/html": [
       "</pre></p>"
      ],
      "text/plain": [
       "<IPython.core.display.HTML object>"
      ]
     },
     "metadata": {},
     "output_type": "display_data"
    },
    {
     "data": {
      "text/html": [
       "<p>Schüler/innen und Student/innen nach Betriebsart, Raum, Schulstufen und Fächer, Zeit: <a href='https://ld.stadt-zuerich.ch/sparql/#requestMethod=POST&outputFormat=table&endpoint=https%3A%2F%2Fld.stadt-zuerich.ch%2Fquery&tabTitle=Example+Query&contentTypeSelect=application%2Fsparql-results%2Bjson&headers=%7B%7D&query=%0A++++PREFIX+rdf%3A+%3Chttp%3A%2F%2Fwww.w3.org%2F1999%2F02%2F22-rdf-syntax-ns%23%3E%0A++++PREFIX+rdfs%3A+%3Chttp%3A%2F%2Fwww.w3.org%2F2000%2F01%2Frdf-schema%23%3E%0A++++PREFIX+qb%3A+%3Chttp%3A%2F%2Fpurl.org%2Flinked-data%2Fcube%23%3E%0A++++SELECT+%2A+WHERE+%7B+GRAPH+%3Chttps%3A%2F%2Flinked.opendata.swiss%2Fgraph%2Fzh%2Fstatistics%3E+%7B%0A++++++%3Fobs+a+qb%3AObservation+%3B%0A+++++++++++qb%3AdataSet+%3Chttps%3A%2F%2Fld.stadt-zuerich.ch%2Fstatistics%2Fdataset%2FSCH-RAUM-ZEIT-BTA-SST%3E+%3B%0A+++++++++++%3Chttps%3A%2F%2Fld.stadt-zuerich.ch%2Fstatistics%2Fattribute%2FERWARTETE_AKTUALISIERUNG%3E+%3Ferwartete_aktualisierung+%3B+%0A+++++++++++%3Chttps%3A%2F%2Fld.stadt-zuerich.ch%2Fstatistics%2Fattribute%2FKORREKTUR%3E+%3Fkorrektur+%3B+%0A+++++++++++%3Chttps%3A%2F%2Fld.stadt-zuerich.ch%2Fstatistics%2Fattribute%2FDATENSTAND%3E+%3Fdatenstand+%3B+%0A+++++++++++%3Chttps%3A%2F%2Fld.stadt-zuerich.ch%2Fstatistics%2Fproperty%2FSST%3E+%3Fschulstufen_und_facher+%3B+%0A+++++++++++%3Chttps%3A%2F%2Fld.stadt-zuerich.ch%2Fstatistics%2Fmeasure%2FSCH%3E+%3Fschuler_innen_und_student_innen+%3B+%0A+++++++++++%3Chttps%3A%2F%2Fld.stadt-zuerich.ch%2Fstatistics%2Fproperty%2FBTA%3E+%3Fbetriebsart+%3B+%0A+++++++++++%3Chttps%3A%2F%2Fld.stadt-zuerich.ch%2Fstatistics%2Fproperty%2FRAUM%3E+%3Fraum+%3B+%0A+++++++++++%3Chttps%3A%2F%2Fld.stadt-zuerich.ch%2Fstatistics%2Fattribute%2FQUELLE%3E+%3Fquelle+%3B+%0A+++++++++++%3Chttps%3A%2F%2Fld.stadt-zuerich.ch%2Fstatistics%2Fproperty%2FZEIT%3E+%3Fzeit+%3B+%0A+++++++++++%3Chttps%3A%2F%2Fld.stadt-zuerich.ch%2Fstatistics%2Fattribute%2FFUSSNOTE%3E+%3Ffussnote+%3B+%0A+++++++++++%3Chttps%3A%2F%2Fld.stadt-zuerich.ch%2Fstatistics%2Fattribute%2FGLOSSAR%3E+%3Fglossar+.%0A++++++%7D%7D&contentTypeConstruct=text%2Fturle'>YASGUI</a><pre>"
      ],
      "text/plain": [
       "<IPython.core.display.HTML object>"
      ]
     },
     "metadata": {},
     "output_type": "display_data"
    },
    {
     "data": {
      "text/plain": [
       "\n",
       "    PREFIX rdf: <http://www.w3.org/1999/02/22-rdf-syntax-ns#>\n",
       "    PREFIX rdfs: <http://www.w3.org/2000/01/rdf-schema#>\n",
       "    PREFIX qb: <http://purl.org/linked-data/cube#>\n",
       "    SELECT * WHERE { GRAPH <https://linked.opendata.swiss/graph/zh/statistics> {\n",
       "      ?obs a qb:Observation ;\n",
       "           qb:dataSet <https://ld.stadt-zuerich.ch/statistics/dataset/SCH-RAUM-ZEIT-BTA-SST> ;\n",
       "           <https://ld.stadt-zuerich.ch/statistics/attribute/ERWARTETE_AKTUALISIERUNG> ?erwartete_aktualisierung ; \n",
       "           <https://ld.stadt-zuerich.ch/statistics/attribute/KORREKTUR> ?korrektur ; \n",
       "           <https://ld.stadt-zuerich.ch/statistics/attribute/DATENSTAND> ?datenstand ; \n",
       "           <https://ld.stadt-zuerich.ch/statistics/property/SST> ?schulstufen_und_facher ; \n",
       "           <https://ld.stadt-zuerich.ch/statistics/measure/SCH> ?schuler_innen_und_student_innen ; \n",
       "           <https://ld.stadt-zuerich.ch/statistics/property/BTA> ?betriebsart ; \n",
       "           <https://ld.stadt-zuerich.ch/statistics/property/RAUM> ?raum ; \n",
       "           <https://ld.stadt-zuerich.ch/statistics/attribute/QUELLE> ?quelle ; \n",
       "           <https://ld.stadt-zuerich.ch/statistics/property/ZEIT> ?zeit ; \n",
       "           <https://ld.stadt-zuerich.ch/statistics/attribute/FUSSNOTE> ?fussnote ; \n",
       "           <https://ld.stadt-zuerich.ch/statistics/attribute/GLOSSAR> ?glossar .\n",
       "      }}"
      ]
     },
     "metadata": {},
     "output_type": "display_data"
    },
    {
     "data": {
      "text/html": [
       "</pre></p>"
      ],
      "text/plain": [
       "<IPython.core.display.HTML object>"
      ]
     },
     "metadata": {},
     "output_type": "display_data"
    },
    {
     "data": {
      "text/html": [
       "<p>Schüler/innen und Student/innen nach Betriebsart, Raum, Zeit: <a href='https://ld.stadt-zuerich.ch/sparql/#requestMethod=POST&outputFormat=table&endpoint=https%3A%2F%2Fld.stadt-zuerich.ch%2Fquery&tabTitle=Example+Query&contentTypeSelect=application%2Fsparql-results%2Bjson&headers=%7B%7D&query=%0A++++PREFIX+rdf%3A+%3Chttp%3A%2F%2Fwww.w3.org%2F1999%2F02%2F22-rdf-syntax-ns%23%3E%0A++++PREFIX+rdfs%3A+%3Chttp%3A%2F%2Fwww.w3.org%2F2000%2F01%2Frdf-schema%23%3E%0A++++PREFIX+qb%3A+%3Chttp%3A%2F%2Fpurl.org%2Flinked-data%2Fcube%23%3E%0A++++SELECT+%2A+WHERE+%7B+GRAPH+%3Chttps%3A%2F%2Flinked.opendata.swiss%2Fgraph%2Fzh%2Fstatistics%3E+%7B%0A++++++%3Fobs+a+qb%3AObservation+%3B%0A+++++++++++qb%3AdataSet+%3Chttps%3A%2F%2Fld.stadt-zuerich.ch%2Fstatistics%2Fdataset%2FSCH-RAUM-ZEIT-BTA%3E+%3B%0A+++++++++++%3Chttps%3A%2F%2Fld.stadt-zuerich.ch%2Fstatistics%2Fattribute%2FERWARTETE_AKTUALISIERUNG%3E+%3Ferwartete_aktualisierung+%3B+%0A+++++++++++%3Chttps%3A%2F%2Fld.stadt-zuerich.ch%2Fstatistics%2Fattribute%2FKORREKTUR%3E+%3Fkorrektur+%3B+%0A+++++++++++%3Chttps%3A%2F%2Fld.stadt-zuerich.ch%2Fstatistics%2Fattribute%2FDATENSTAND%3E+%3Fdatenstand+%3B+%0A+++++++++++%3Chttps%3A%2F%2Fld.stadt-zuerich.ch%2Fstatistics%2Fmeasure%2FSCH%3E+%3Fschuler_innen_und_student_innen+%3B+%0A+++++++++++%3Chttps%3A%2F%2Fld.stadt-zuerich.ch%2Fstatistics%2Fproperty%2FBTA%3E+%3Fbetriebsart+%3B+%0A+++++++++++%3Chttps%3A%2F%2Fld.stadt-zuerich.ch%2Fstatistics%2Fproperty%2FRAUM%3E+%3Fraum+%3B+%0A+++++++++++%3Chttps%3A%2F%2Fld.stadt-zuerich.ch%2Fstatistics%2Fattribute%2FQUELLE%3E+%3Fquelle+%3B+%0A+++++++++++%3Chttps%3A%2F%2Fld.stadt-zuerich.ch%2Fstatistics%2Fproperty%2FZEIT%3E+%3Fzeit+%3B+%0A+++++++++++%3Chttps%3A%2F%2Fld.stadt-zuerich.ch%2Fstatistics%2Fattribute%2FFUSSNOTE%3E+%3Ffussnote+%3B+%0A+++++++++++%3Chttps%3A%2F%2Fld.stadt-zuerich.ch%2Fstatistics%2Fattribute%2FGLOSSAR%3E+%3Fglossar+.%0A++++++%7D%7D&contentTypeConstruct=text%2Fturle'>YASGUI</a><pre>"
      ],
      "text/plain": [
       "<IPython.core.display.HTML object>"
      ]
     },
     "metadata": {},
     "output_type": "display_data"
    },
    {
     "data": {
      "text/plain": [
       "\n",
       "    PREFIX rdf: <http://www.w3.org/1999/02/22-rdf-syntax-ns#>\n",
       "    PREFIX rdfs: <http://www.w3.org/2000/01/rdf-schema#>\n",
       "    PREFIX qb: <http://purl.org/linked-data/cube#>\n",
       "    SELECT * WHERE { GRAPH <https://linked.opendata.swiss/graph/zh/statistics> {\n",
       "      ?obs a qb:Observation ;\n",
       "           qb:dataSet <https://ld.stadt-zuerich.ch/statistics/dataset/SCH-RAUM-ZEIT-BTA> ;\n",
       "           <https://ld.stadt-zuerich.ch/statistics/attribute/ERWARTETE_AKTUALISIERUNG> ?erwartete_aktualisierung ; \n",
       "           <https://ld.stadt-zuerich.ch/statistics/attribute/KORREKTUR> ?korrektur ; \n",
       "           <https://ld.stadt-zuerich.ch/statistics/attribute/DATENSTAND> ?datenstand ; \n",
       "           <https://ld.stadt-zuerich.ch/statistics/measure/SCH> ?schuler_innen_und_student_innen ; \n",
       "           <https://ld.stadt-zuerich.ch/statistics/property/BTA> ?betriebsart ; \n",
       "           <https://ld.stadt-zuerich.ch/statistics/property/RAUM> ?raum ; \n",
       "           <https://ld.stadt-zuerich.ch/statistics/attribute/QUELLE> ?quelle ; \n",
       "           <https://ld.stadt-zuerich.ch/statistics/property/ZEIT> ?zeit ; \n",
       "           <https://ld.stadt-zuerich.ch/statistics/attribute/FUSSNOTE> ?fussnote ; \n",
       "           <https://ld.stadt-zuerich.ch/statistics/attribute/GLOSSAR> ?glossar .\n",
       "      }}"
      ]
     },
     "metadata": {},
     "output_type": "display_data"
    },
    {
     "data": {
      "text/html": [
       "</pre></p>"
      ],
      "text/plain": [
       "<IPython.core.display.HTML object>"
      ]
     },
     "metadata": {},
     "output_type": "display_data"
    },
    {
     "data": {
      "text/html": [
       "<p>Arbeitsstätten nach Bewilligung, Betriebsart, Raum, Zeit: <a href='https://ld.stadt-zuerich.ch/sparql/#requestMethod=POST&outputFormat=table&endpoint=https%3A%2F%2Fld.stadt-zuerich.ch%2Fquery&tabTitle=Example+Query&contentTypeSelect=application%2Fsparql-results%2Bjson&headers=%7B%7D&query=%0A++++PREFIX+rdf%3A+%3Chttp%3A%2F%2Fwww.w3.org%2F1999%2F02%2F22-rdf-syntax-ns%23%3E%0A++++PREFIX+rdfs%3A+%3Chttp%3A%2F%2Fwww.w3.org%2F2000%2F01%2Frdf-schema%23%3E%0A++++PREFIX+qb%3A+%3Chttp%3A%2F%2Fpurl.org%2Flinked-data%2Fcube%23%3E%0A++++SELECT+%2A+WHERE+%7B+GRAPH+%3Chttps%3A%2F%2Flinked.opendata.swiss%2Fgraph%2Fzh%2Fstatistics%3E+%7B%0A++++++%3Fobs+a+qb%3AObservation+%3B%0A+++++++++++qb%3AdataSet+%3Chttps%3A%2F%2Fld.stadt-zuerich.ch%2Fstatistics%2Fdataset%2FAST-RAUM-ZEIT-BEW-BTA%3E+%3B%0A+++++++++++%3Chttps%3A%2F%2Fld.stadt-zuerich.ch%2Fstatistics%2Fattribute%2FERWARTETE_AKTUALISIERUNG%3E+%3Ferwartete_aktualisierung+%3B+%0A+++++++++++%3Chttps%3A%2F%2Fld.stadt-zuerich.ch%2Fstatistics%2Fattribute%2FKORREKTUR%3E+%3Fkorrektur+%3B+%0A+++++++++++%3Chttps%3A%2F%2Fld.stadt-zuerich.ch%2Fstatistics%2Fattribute%2FDATENSTAND%3E+%3Fdatenstand+%3B+%0A+++++++++++%3Chttps%3A%2F%2Fld.stadt-zuerich.ch%2Fstatistics%2Fmeasure%2FAST%3E+%3Farbeitsstatten+%3B+%0A+++++++++++%3Chttps%3A%2F%2Fld.stadt-zuerich.ch%2Fstatistics%2Fproperty%2FBEW%3E+%3Fbewilligung+%3B+%0A+++++++++++%3Chttps%3A%2F%2Fld.stadt-zuerich.ch%2Fstatistics%2Fproperty%2FBTA%3E+%3Fbetriebsart+%3B+%0A+++++++++++%3Chttps%3A%2F%2Fld.stadt-zuerich.ch%2Fstatistics%2Fproperty%2FRAUM%3E+%3Fraum+%3B+%0A+++++++++++%3Chttps%3A%2F%2Fld.stadt-zuerich.ch%2Fstatistics%2Fattribute%2FQUELLE%3E+%3Fquelle+%3B+%0A+++++++++++%3Chttps%3A%2F%2Fld.stadt-zuerich.ch%2Fstatistics%2Fproperty%2FZEIT%3E+%3Fzeit+%3B+%0A+++++++++++%3Chttps%3A%2F%2Fld.stadt-zuerich.ch%2Fstatistics%2Fattribute%2FFUSSNOTE%3E+%3Ffussnote+%3B+%0A+++++++++++%3Chttps%3A%2F%2Fld.stadt-zuerich.ch%2Fstatistics%2Fattribute%2FGLOSSAR%3E+%3Fglossar+.%0A++++++%7D%7D&contentTypeConstruct=text%2Fturle'>YASGUI</a><pre>"
      ],
      "text/plain": [
       "<IPython.core.display.HTML object>"
      ]
     },
     "metadata": {},
     "output_type": "display_data"
    },
    {
     "data": {
      "text/plain": [
       "\n",
       "    PREFIX rdf: <http://www.w3.org/1999/02/22-rdf-syntax-ns#>\n",
       "    PREFIX rdfs: <http://www.w3.org/2000/01/rdf-schema#>\n",
       "    PREFIX qb: <http://purl.org/linked-data/cube#>\n",
       "    SELECT * WHERE { GRAPH <https://linked.opendata.swiss/graph/zh/statistics> {\n",
       "      ?obs a qb:Observation ;\n",
       "           qb:dataSet <https://ld.stadt-zuerich.ch/statistics/dataset/AST-RAUM-ZEIT-BEW-BTA> ;\n",
       "           <https://ld.stadt-zuerich.ch/statistics/attribute/ERWARTETE_AKTUALISIERUNG> ?erwartete_aktualisierung ; \n",
       "           <https://ld.stadt-zuerich.ch/statistics/attribute/KORREKTUR> ?korrektur ; \n",
       "           <https://ld.stadt-zuerich.ch/statistics/attribute/DATENSTAND> ?datenstand ; \n",
       "           <https://ld.stadt-zuerich.ch/statistics/measure/AST> ?arbeitsstatten ; \n",
       "           <https://ld.stadt-zuerich.ch/statistics/property/BEW> ?bewilligung ; \n",
       "           <https://ld.stadt-zuerich.ch/statistics/property/BTA> ?betriebsart ; \n",
       "           <https://ld.stadt-zuerich.ch/statistics/property/RAUM> ?raum ; \n",
       "           <https://ld.stadt-zuerich.ch/statistics/attribute/QUELLE> ?quelle ; \n",
       "           <https://ld.stadt-zuerich.ch/statistics/property/ZEIT> ?zeit ; \n",
       "           <https://ld.stadt-zuerich.ch/statistics/attribute/FUSSNOTE> ?fussnote ; \n",
       "           <https://ld.stadt-zuerich.ch/statistics/attribute/GLOSSAR> ?glossar .\n",
       "      }}"
      ]
     },
     "metadata": {},
     "output_type": "display_data"
    },
    {
     "data": {
      "text/html": [
       "</pre></p>"
      ],
      "text/plain": [
       "<IPython.core.display.HTML object>"
      ]
     },
     "metadata": {},
     "output_type": "display_data"
    },
    {
     "data": {
      "text/html": [
       "<p>Wirtschaftliche Wohnbevölkerung nach Raum, Zeit: <a href='https://ld.stadt-zuerich.ch/sparql/#requestMethod=POST&outputFormat=table&endpoint=https%3A%2F%2Fld.stadt-zuerich.ch%2Fquery&tabTitle=Example+Query&contentTypeSelect=application%2Fsparql-results%2Bjson&headers=%7B%7D&query=%0A++++PREFIX+rdf%3A+%3Chttp%3A%2F%2Fwww.w3.org%2F1999%2F02%2F22-rdf-syntax-ns%23%3E%0A++++PREFIX+rdfs%3A+%3Chttp%3A%2F%2Fwww.w3.org%2F2000%2F01%2Frdf-schema%23%3E%0A++++PREFIX+qb%3A+%3Chttp%3A%2F%2Fpurl.org%2Flinked-data%2Fcube%23%3E%0A++++SELECT+%2A+WHERE+%7B+GRAPH+%3Chttps%3A%2F%2Flinked.opendata.swiss%2Fgraph%2Fzh%2Fstatistics%3E+%7B%0A++++++%3Fobs+a+qb%3AObservation+%3B%0A+++++++++++qb%3AdataSet+%3Chttps%3A%2F%2Fld.stadt-zuerich.ch%2Fstatistics%2Fdataset%2FBEW-RAUM-ZEIT%3E+%3B%0A+++++++++++%3Chttps%3A%2F%2Fld.stadt-zuerich.ch%2Fstatistics%2Fattribute%2FDATENSTAND%3E+%3Fdatenstand+%3B+%0A+++++++++++%3Chttps%3A%2F%2Fld.stadt-zuerich.ch%2Fstatistics%2Fattribute%2FERWARTETE_AKTUALISIERUNG%3E+%3Ferwartete_aktualisierung+%3B+%0A+++++++++++%3Chttps%3A%2F%2Fld.stadt-zuerich.ch%2Fstatistics%2Fattribute%2FFUSSNOTE%3E+%3Ffussnote+%3B+%0A+++++++++++%3Chttps%3A%2F%2Fld.stadt-zuerich.ch%2Fstatistics%2Fmeasure%2FBEW%3E+%3Fwirtschaftliche_wohnbevolkerung+%3B+%0A+++++++++++%3Chttps%3A%2F%2Fld.stadt-zuerich.ch%2Fstatistics%2Fattribute%2FKORREKTUR%3E+%3Fkorrektur+%3B+%0A+++++++++++%3Chttps%3A%2F%2Fld.stadt-zuerich.ch%2Fstatistics%2Fproperty%2FRAUM%3E+%3Fraum+%3B+%0A+++++++++++%3Chttps%3A%2F%2Fld.stadt-zuerich.ch%2Fstatistics%2Fproperty%2FZEIT%3E+%3Fzeit+%3B+%0A+++++++++++%3Chttps%3A%2F%2Fld.stadt-zuerich.ch%2Fstatistics%2Fattribute%2FGLOSSAR%3E+%3Fglossar+%3B+%0A+++++++++++%3Chttps%3A%2F%2Fld.stadt-zuerich.ch%2Fstatistics%2Fattribute%2FQUELLE%3E+%3Fquelle+.%0A++++++%7D%7D&contentTypeConstruct=text%2Fturle'>YASGUI</a><pre>"
      ],
      "text/plain": [
       "<IPython.core.display.HTML object>"
      ]
     },
     "metadata": {},
     "output_type": "display_data"
    },
    {
     "data": {
      "text/plain": [
       "\n",
       "    PREFIX rdf: <http://www.w3.org/1999/02/22-rdf-syntax-ns#>\n",
       "    PREFIX rdfs: <http://www.w3.org/2000/01/rdf-schema#>\n",
       "    PREFIX qb: <http://purl.org/linked-data/cube#>\n",
       "    SELECT * WHERE { GRAPH <https://linked.opendata.swiss/graph/zh/statistics> {\n",
       "      ?obs a qb:Observation ;\n",
       "           qb:dataSet <https://ld.stadt-zuerich.ch/statistics/dataset/BEW-RAUM-ZEIT> ;\n",
       "           <https://ld.stadt-zuerich.ch/statistics/attribute/DATENSTAND> ?datenstand ; \n",
       "           <https://ld.stadt-zuerich.ch/statistics/attribute/ERWARTETE_AKTUALISIERUNG> ?erwartete_aktualisierung ; \n",
       "           <https://ld.stadt-zuerich.ch/statistics/attribute/FUSSNOTE> ?fussnote ; \n",
       "           <https://ld.stadt-zuerich.ch/statistics/measure/BEW> ?wirtschaftliche_wohnbevolkerung ; \n",
       "           <https://ld.stadt-zuerich.ch/statistics/attribute/KORREKTUR> ?korrektur ; \n",
       "           <https://ld.stadt-zuerich.ch/statistics/property/RAUM> ?raum ; \n",
       "           <https://ld.stadt-zuerich.ch/statistics/property/ZEIT> ?zeit ; \n",
       "           <https://ld.stadt-zuerich.ch/statistics/attribute/GLOSSAR> ?glossar ; \n",
       "           <https://ld.stadt-zuerich.ch/statistics/attribute/QUELLE> ?quelle .\n",
       "      }}"
      ]
     },
     "metadata": {},
     "output_type": "display_data"
    },
    {
     "data": {
      "text/html": [
       "</pre></p>"
      ],
      "text/plain": [
       "<IPython.core.display.HTML object>"
      ]
     },
     "metadata": {},
     "output_type": "display_data"
    }
   ],
   "source": [
    "from IPython.core.display import display, HTML, Pretty\n",
    "for r in ressources:\n",
    "    display(HTML(\"<p>%s: <a href='%s'>YASGUI</a><pre>\" % (r['datasetLabel'], r['yasgui'])))\n",
    "    display(Pretty(r['query']))\n",
    "    display(HTML(\"</pre></p>\"))"
   ]
  },
  {
   "cell_type": "markdown",
   "metadata": {},
   "source": [
    "## Fazit\n",
    "\n",
    "- **Es ist möglich, die meisten Metadaten aus LOSD zu extrahieren**\n",
    "- Es gibt auch Dinge die aktuell **fehlen** (siehe leere Felder oben, z.B. `legal_basis`, `description`)\n",
    "- Da im LOSD viele Metadaten an den Observations hängen, gibt es potentiell **mehrere Werte für einige Felder** (z.B. `published_date`, `source`, `spatial`). Hier braucht es entweder eine Änderung in CKAN oder eine Logik für die Auswahl des \"korrekten\" Wertes.\n",
    "- **Nicht alle Dataset haben eine Kategorie** (ist dies korrekt oder ein Fehler?)\n",
    "- Generieren von **Beispiel-SPARQL-Queries als Ressourcen** funktioniert (analog zu z.B. http://yasgui.org/short/DM-Xwuqi3)\n",
    "- RDF Datacube Ontologie ist im SPARQL-Endpoint nicht vorhanden (d.h. Queries mit rdfs:subClassOf etc. funktionieren nicht)\n",
    "\n",
    "**Noch offen:**\n",
    "- Generieren von Attribut-Listen (wahrscheinlich nicht sinnvoll, da diese Information bereits im SPAQL-Query \"encoded\" ist)"
   ]
  },
  {
   "cell_type": "code",
   "execution_count": null,
   "metadata": {},
   "outputs": [],
   "source": []
  }
 ],
 "metadata": {
  "kernelspec": {
   "display_name": "Python 2",
   "language": "python",
   "name": "python2"
  },
  "language_info": {
   "codemirror_mode": {
    "name": "ipython",
    "version": 2
   },
   "file_extension": ".py",
   "mimetype": "text/x-python",
   "name": "python",
   "nbconvert_exporter": "python",
   "pygments_lexer": "ipython2",
   "version": "2.7.12"
  }
 },
 "nbformat": 4,
 "nbformat_minor": 2
}
